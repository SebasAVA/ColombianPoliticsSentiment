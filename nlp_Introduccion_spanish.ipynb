{
 "cells": [
  {
   "cell_type": "markdown",
   "metadata": {
    "tags": []
   },
   "source": [
    "<figure>\n",
    "<img src=\"../Imagenes/logo-final-ap.png\"  width=\"80\" height=\"80\" align=\"left\"/> \n",
    "</figure>\n",
    "\n",
    "# <span style=\"color:blue\"><left>Aprendizaje Profundo</left></span>"
   ]
  },
  {
   "cell_type": "markdown",
   "metadata": {
    "tags": []
   },
   "source": [
    "# <span style=\"color:red\"><center>Introduction to LDA</center></span>"
   ]
  },
  {
   "cell_type": "markdown",
   "metadata": {},
   "source": [
    "<center>Latent Dirichlet Allocation</center>"
   ]
  },
  {
   "cell_type": "markdown",
   "metadata": {},
   "source": [
    "##   <span style=\"color:blue\">Authors</span>"
   ]
  },
  {
   "cell_type": "markdown",
   "metadata": {},
   "source": [
    "1. Alvaro Mauricio Montenegro Díaz, ammontenegrod@unal.edu.co\n",
    "2. Daniel Mauricio Montenegro Reyes, dextronomo@gmail.com "
   ]
  },
  {
   "cell_type": "markdown",
   "metadata": {},
   "source": [
    "## <span style=\"color:blue\">References</span> "
   ]
  },
  {
   "cell_type": "markdown",
   "metadata": {},
   "source": [
    "1. Blei et al.,[Latent Dirichlet Allocation, 2003](https://www.jmlr.org/papers/volume3/blei03a/blei03a.pdf)\n",
    "2. [Topic Modeling and Latent Dirichlet Allocation (LDA) in Python, 2018](https://towardsdatascience.com/topic-modeling-and-latent-dirichlet-allocation-in-python-9bf156893c24), en Toward data science."
   ]
  },
  {
   "cell_type": "markdown",
   "metadata": {},
   "source": [
    "## <span style=\"color:blue\">Content</span>"
   ]
  },
  {
   "cell_type": "markdown",
   "metadata": {},
   "source": [
    "* [Introduction](#Introducción)\n",
    "* [Superficial Analysis of Texts](#Superficial-Analysis-of-Texts)\n",
    "* [General Terminology](#General-Terminology)\n",
    "* [Textual data preprocessing](#Textual-data-preprocessing)\n",
    "* [TF-IDF](#TF-IDF)\n",
    "* [Generative Models: Latent Dirichlet Allocation](#Generative-Models:-Latent-Dirichlet-Allocation)\n",
    "* [Example: One million headlines](#Example:-One-million-headlines)\n",
    "* [Example: Airlines Tweets](#Example:-Airlines-Tweets)"
   ]
  },
  {
   "cell_type": "markdown",
   "metadata": {},
   "source": [
    "## <span style=\"color:blue\">Introduction</span>"
   ]
  },
  {
   "cell_type": "markdown",
   "metadata": {},
   "source": [
    "Humans communicate using natural languages. Natural languages differ from programming languages in recent times, they follow strict syntactic and semantic rules, while the former, due to their complexity, depend on the context.\n",
    "\n",
    "In general, text analysis has two large subareas: superficial text analysis and natural language processing.\n",
    "\n",
    "In this lesson we deal with the superficial analysis of texts."
   ]
  },
  {
   "cell_type": "markdown",
   "metadata": {},
   "source": [
    "[[Go Back]](#Content)"
   ]
  },
  {
   "cell_type": "markdown",
   "metadata": {},
   "source": [
    "## <span style=\"color:blue\">Superficial Analysis of Texts</span>"
   ]
  },
  {
   "cell_type": "markdown",
   "metadata": {},
   "source": [
    "This subarea was developed first, because the problems associated with natural language in this case are simpler. These are techniques in which it is sought to find the underlying topics in the text. In this sense, they are unsupervised and consequential type models based on automatic classification techniques.\n",
    "\n",
    "These techniques are aimed at detecting clusters of words and documents in large data corpus.\n",
    "\n",
    "A document is in this case a distinguishable unit from others in the corpus. For example an open response in a survey, a comment in a review, an abstract of a document, etc.\n",
    "\n",
    "After omitting terms that are considered not contributing to the detection of topics (themes), usually known as *empty words* (`stop words`) and other preprocessing processes such as stemming, clipping (`steeming`), it is common construct an array named document-term (`dtm`).\n",
    "\n",
    "This `dtm` matrix represents by the rows each one of the individual documents of the corpus and by the columns each one of the terms conserved in the analysis. Each position in the array contains the number of times a term appears in the document. In some cases this is a binary array, in which case the dtm indicates when a term appears in a document.\n",
    "\n",
    "The `dtm` is the basis of the techniques known generically as *word-bag* (`word-bag`). The name derives from the fact that when organizing the dtm, the context of the words in each document is lost."
   ]
  },
  {
   "cell_type": "markdown",
   "metadata": {},
   "source": [
    "[[Go Back]](#Content)"
   ]
  },
  {
   "cell_type": "markdown",
   "metadata": {},
   "source": [
    "## <span style=\"color:blue\">General Terminology</span>"
   ]
  },
  {
   "cell_type": "markdown",
   "metadata": {},
   "source": [
    "### Words or Terms"
   ]
  },
  {
   "cell_type": "markdown",
   "metadata": {},
   "source": [
    "Words are the minimum units of information in natural language work.\n",
    "\n",
    "From a very modern perspective, words are objects that can be thought of as points that are in a high-dimensional space, in such a way that close points in some sense of distance correspond to words that have a closeness within a universe of words considered.\n",
    "\n",
    "The following image corresponds to a set of **astrophysics words**, considered in a study of abstracts of scientific articles. This is a graph obtained after processing like what we show today, developed by Montenegro and Montenegro using an analysis technique based on multidimensional item response theory (TRIM).\n",
    "\n",
    "In this document the words will be denoted as $w_i, i = 1,2, \\ldots, K$."
   ]
  },
  {
   "cell_type": "markdown",
   "metadata": {},
   "source": [
    "<figure>\n",
    "<center>\n",
    "<img src=\"../Imagenes/cluster_kmeans_10.png\" width=\"700\" height=\"600\" align=\"center\"/>\n",
    "</center>\n",
    "<figcaption>\n",
    "<p style=\"text-align:center\">Astrophysics knowledge areas, based on scientific articles</p>\n",
    "</figcaption>\n",
    "</figure>\n",
    "Source: Alvaro Montenegro"
   ]
  },
  {
   "cell_type": "markdown",
   "metadata": {},
   "source": [
    "### Documents"
   ]
  },
  {
   "cell_type": "markdown",
   "metadata": {},
   "source": [
    "Documents are the subjects in superficial textual analyzes. We assume that we have a set of individual documents, each of which will be denoted by $ \\mathbf {w} $. A document is considered to be a sequence of $ N $ words. Thus we have that a document is denoted as $ \\mathbf {w} = \\{w_1, \\ldots, w_N \\} $."
   ]
  },
  {
   "cell_type": "markdown",
   "metadata": {},
   "source": [
    "### Corpus"
   ]
  },
  {
   "cell_type": "markdown",
   "metadata": {},
   "source": [
    "A corpus is a collection of documents on a particular problem.\n",
    "\n",
    "This means that a corpus can be writen as $C = \\{\\text{doc}_{1},\\text{doc}_{2},\\text{doc}_{3},\\dots\\}$"
   ]
  },
  {
   "cell_type": "markdown",
   "metadata": {},
   "source": [
    "### Topics"
   ]
  },
  {
   "cell_type": "markdown",
   "metadata": {},
   "source": [
    "Topics are latent areas to which both words and documents are associated. \n",
    "\n",
    "One of the main purposes of text analysis is to discover or highlight such topics.\n",
    "\n",
    "The previous figure shows, for example, the presence of 10 topics in the set of astrophysics documents analyzed."
   ]
  },
  {
   "cell_type": "markdown",
   "metadata": {},
   "source": [
    "[[Go Back]](#Content)"
   ]
  },
  {
   "cell_type": "markdown",
   "metadata": {},
   "source": [
    "## <span style=\"color:blue\">Textual data preprocessing</span> "
   ]
  },
  {
   "cell_type": "markdown",
   "metadata": {},
   "source": [
    "In what follows, we are going to use the terms token and tokenize, which are not yet adopted by the Royal Academy of the Language, but which we believe will soon be like so many others from English due to their enormous current use, due to the scientific and technological developments.\n",
    "\n",
    "We will carry out the following steps:\n",
    "\n",
    "- **Cleansing raw data**: Cleaning strange simbols, tags or another kind of unnecessary elements on the text.\n",
    "- **Tokenization**: divide the text into sentences and sentences into words. Put the words in lowercase and remove the punctuation.\n",
    "- Transform data lo **lowercase** (So that WoRd = word).\n",
    "- Text is cleaned using **regular expresions**.\n",
    "- Words are **lemmatized**: words in the third person are changed to the first person and the verbs in the past and future tense are changed to the present.\n",
    "- All **stopwords** are removed. (**CAREFULLY**)\n",
    "- Words **that have less than 2 characters are eliminated**. (**CAREFULLY**)\n",
    "- Words are stemming (**stemming**): words are reduced to their root form. (**OPTIONAL**)\n",
    "\n",
    "We will use the *gensim* and *nltk* libraries to do this work."
   ]
  },
  {
   "cell_type": "markdown",
   "metadata": {},
   "source": [
    "[[Go Back]](#Content)"
   ]
  },
  {
   "cell_type": "markdown",
   "metadata": {},
   "source": [
    "### Tokenization"
   ]
  },
  {
   "cell_type": "markdown",
   "metadata": {},
   "source": [
    "Some terms that will be used frequently are:\n",
    "\n",
    "- `Corpus`: body of the text, singular. Corpora is the plural of corpus.\n",
    "- `Lexicon`: words and their meanings.\n",
    "- `Token`: each *entity* that is part of whatever was divided according to the rules that we establish for the analysis. For example, each word is a token when a sentence is tokenized into words. Each sentence can also be a token, if you have converted the sentences to a paragraph.\n",
    "\n",
    "Basically, tokenize involves splitting sentences and words from the body of text.\n",
    "\n",
    "See the following example taken from [Geek for Geeks](https://www.geeksforgeeks.org/tokenize-text-using-nltk-python/?ref=rp). We use *nltk* library.\n",
    "\n",
    "Lets suppose that our goal is to analize the following toy example:\n",
    "\n",
    "*Natural language processing **(NLP)** is a field of computer science, artificial intelligence and computational linguistics concerned with the interactions between computers and human (natural) languages, and, in particular, concerned with programming computers to fruitfully process large natural language corpora.* \n",
    "\n",
    "*Challenges in natural language processing frequently involve natural language understanding, natural language generation frequently from formal, machine-readable logical forms), connecting language and machine perception, managing human-computer dialog systems, or some combination thereof. There are 365 days usually. This year is 2020.*"
   ]
  },
  {
   "cell_type": "code",
   "execution_count": 68,
   "metadata": {},
   "outputs": [
    {
     "name": "stdout",
     "output_type": "stream",
     "text": [
      "<p class=\"foo\">Natural language processing <b>(NLP)</b> is a field of computer science, artificial intelligence and computational linguistics concerned with the interactions between computers and human (natural) languages, and, in particular, concerned with programming computers to fruitfully process large natural language corpora.<br/> Challenges in natural language processing frequently involve natural language understanding, natural language generation frequently from formal, machine-readable logical forms), connecting language and machine perception, managing human-computer dialog systems, or some combination thereof. There are 365 days usually. This year is 2020.</p>\n"
     ]
    }
   ],
   "source": [
    "raw_text = '<p class=\"foo\">Natural language processing <b>(NLP)</b> is a field ' \\\n",
    "       + 'of computer science, artificial intelligence ' \\\n",
    "       + 'and computational linguistics concerned with ' \\\n",
    "       +'the interactions between computers and human ' \\\n",
    "       + '(natural) languages, and, in particular, ' \\\n",
    "       + 'concerned with programming computers to ' \\\n",
    "       + 'fruitfully process large natural language ' \\\n",
    "       + 'corpora.<br/> Challenges in natural language ' \\\n",
    "       + 'processing frequently involve natural ' \\\n",
    "       + 'language understanding, natural language ' \\\n",
    "       + 'generation frequently from formal, machine' \\\n",
    "       + '-readable logical forms), connecting language ' \\\n",
    "       + 'and machine perception, managing human-' \\\n",
    "       + 'computer dialog systems, or some combination ' \\\n",
    "       + 'thereof. There are 365 days usually. ' \\\n",
    "       + 'This year is 2020.</p>'\n",
    "\n",
    "print(raw_text)"
   ]
  },
  {
   "cell_type": "markdown",
   "metadata": {},
   "source": [
    "### Importing resources from `nltk`"
   ]
  },
  {
   "cell_type": "code",
   "execution_count": 69,
   "metadata": {},
   "outputs": [
    {
     "name": "stderr",
     "output_type": "stream",
     "text": [
      "[nltk_data] Downloading package punkt to /Users/moury/nltk_data...\n",
      "[nltk_data]   Package punkt is already up-to-date!\n",
      "[nltk_data] Downloading package stopwords to /Users/moury/nltk_data...\n",
      "[nltk_data]   Package stopwords is already up-to-date!\n",
      "[nltk_data] Downloading package wordnet to /Users/moury/nltk_data...\n",
      "[nltk_data]   Package wordnet is already up-to-date!\n"
     ]
    }
   ],
   "source": [
    "# import the existing word and sentence tokenizing libraries \n",
    "import nltk\n",
    "\n",
    "# tokenizers\n",
    "from nltk.tokenize import sent_tokenize, word_tokenize\n",
    "# For tweets\n",
    "from nltk.tokenize import TweetTokenizer\n",
    "\n",
    "# Special dictionaries for punctuation and stopwords\n",
    "nltk.download('punkt') # Punctuation\n",
    "nltk.download('stopwords') # stopwords\n",
    "\n",
    "# Large lexical database of English\n",
    "nltk.download('wordnet')\n",
    "\n",
    "# Stopwords from nltk\n",
    "from nltk.corpus import stopwords\n",
    "\n",
    "# lematizador basado en WordNet de nltk\n",
    "from nltk.stem import WordNetLemmatizer \n",
    "\n",
    "# notlk's steemer. Extract root of words.\n",
    "from nltk.stem import SnowballStemmer\n",
    "from nltk.stem import PorterStemmer "
   ]
  },
  {
   "cell_type": "markdown",
   "metadata": {},
   "source": [
    "### Importing resources from `gensim`"
   ]
  },
  {
   "cell_type": "code",
   "execution_count": 70,
   "metadata": {},
   "outputs": [],
   "source": [
    "import gensim\n",
    "# Importing stopwords using gensim\n",
    "from gensim.parsing.preprocessing import STOPWORDS"
   ]
  },
  {
   "cell_type": "markdown",
   "metadata": {},
   "source": [
    "### Cleansing raw data"
   ]
  },
  {
   "cell_type": "code",
   "execution_count": 71,
   "metadata": {},
   "outputs": [
    {
     "name": "stdout",
     "output_type": "stream",
     "text": [
      "Natural language processing (NLP) is a field of computer science, artificial intelligence and computational linguistics concerned with the interactions between computers and human (natural) languages, and, in particular, concerned with programming computers to fruitfully process large natural language corpora. Challenges in natural language processing frequently involve natural language understanding, natural language generation frequently from formal, machine-readable logical forms), connecting language and machine perception, managing human-computer dialog systems, or some combination thereof. There are 365 days usually. This year is 2020. \n"
     ]
    }
   ],
   "source": [
    "# Transforms html to text\n",
    "import html2text\n",
    "# Regular Expressions\n",
    "import re\n",
    "\n",
    "# Transform html to text\n",
    "text = html2text.html2text(''.join(str(raw_text)))\n",
    "# Drop breakline\n",
    "text = re.sub(r'\\n',' ',text)\n",
    "# Drop *\n",
    "text = re.sub(r'\\*',' ',text)\n",
    "# Drop extra-spaces\n",
    "text = re.sub(r'\\s\\s+',' ',text)\n",
    "# Unify w1- w2 to w1-w2 \n",
    "text = re.sub(r'\\-\\s','-',text)\n",
    "print(text)"
   ]
  },
  {
   "cell_type": "markdown",
   "metadata": {},
   "source": [
    "### Tokenization Example"
   ]
  },
  {
   "cell_type": "code",
   "execution_count": 72,
   "metadata": {},
   "outputs": [
    {
     "name": "stdout",
     "output_type": "stream",
     "text": [
      "Sentences Tokenization:\n",
      "\n",
      "Sentence 0:\n",
      "Natural language processing (NLP) is a field of computer science, artificial intelligence and computational linguistics concerned with the interactions between computers and human (natural) languages, and, in particular, concerned with programming computers to fruitfully process large natural language corpora.\n",
      "\n",
      "Sentence 1:\n",
      "Challenges in natural language processing frequently involve natural language understanding, natural language generation frequently from formal, machine-readable logical forms), connecting language and machine perception, managing human-computer dialog systems, or some combination thereof.\n",
      "\n",
      "Sentence 2:\n",
      "There are 365 days usually.\n",
      "\n",
      "Sentence 3:\n",
      "This year is 2020.\n",
      "\n"
     ]
    }
   ],
   "source": [
    "# sentences\n",
    "print('Sentences Tokenization:\\n')\n",
    "sentences = sent_tokenize(text)\n",
    "\n",
    "for i,sentence in enumerate(sentences):\n",
    "    print(f\"Sentence {i}:\\n{sentence}\\n\")"
   ]
  },
  {
   "cell_type": "code",
   "execution_count": 73,
   "metadata": {},
   "outputs": [
    {
     "name": "stdout",
     "output_type": "stream",
     "text": [
      "List with Tokens(Sentences):\n",
      "\n",
      "['Natural language processing (NLP) is a field of computer science, artificial intelligence and computational linguistics concerned with the interactions between computers and human (natural) languages, and, in particular, concerned with programming computers to fruitfully process large natural language corpora.', 'Challenges in natural language processing frequently involve natural language understanding, natural language generation frequently from formal, machine-readable logical forms), connecting language and machine perception, managing human-computer dialog systems, or some combination thereof.', 'There are 365 days usually.', 'This year is 2020.']\n"
     ]
    }
   ],
   "source": [
    "print('List with Tokens(Sentences):\\n')\n",
    "print(sent_tokenize(text))"
   ]
  },
  {
   "cell_type": "code",
   "execution_count": 74,
   "metadata": {},
   "outputs": [
    {
     "name": "stdout",
     "output_type": "stream",
     "text": [
      "Word Tokenization:\n",
      "\n",
      "Tokens: 98\n",
      "\n",
      "Word 0: Natural\n",
      "Word 1: language\n",
      "Word 2: processing\n",
      "Word 3: (\n",
      "Word 4: NLP\n",
      "Word 5: )\n",
      "Word 6: is\n",
      "Word 7: a\n",
      "Word 8: field\n",
      "Word 9: of\n",
      "Word 10: computer\n",
      "Word 11: science\n",
      "Word 12: ,\n",
      "Word 13: artificial\n",
      "Word 14: intelligence\n",
      "Word 15: and\n",
      "Word 16: computational\n",
      "Word 17: linguistics\n",
      "Word 18: concerned\n",
      "Word 19: with\n",
      "Word 20: the\n",
      "Word 21: interactions\n",
      "Word 22: between\n",
      "Word 23: computers\n",
      "Word 24: and\n",
      "Word 25: human\n",
      "Word 26: (\n",
      "Word 27: natural\n",
      "Word 28: )\n",
      "Word 29: languages\n",
      "Word 30: ,\n",
      "Word 31: and\n",
      "Word 32: ,\n",
      "Word 33: in\n",
      "Word 34: particular\n",
      "Word 35: ,\n",
      "Word 36: concerned\n",
      "Word 37: with\n",
      "Word 38: programming\n",
      "Word 39: computers\n",
      "Word 40: to\n",
      "Word 41: fruitfully\n",
      "Word 42: process\n",
      "Word 43: large\n",
      "Word 44: natural\n",
      "Word 45: language\n",
      "Word 46: corpora\n",
      "Word 47: .\n",
      "Word 48: Challenges\n",
      "Word 49: in\n",
      "Word 50: natural\n",
      "Word 51: language\n",
      "Word 52: processing\n",
      "Word 53: frequently\n",
      "Word 54: involve\n",
      "Word 55: natural\n",
      "Word 56: language\n",
      "Word 57: understanding\n",
      "Word 58: ,\n",
      "Word 59: natural\n",
      "Word 60: language\n",
      "Word 61: generation\n",
      "Word 62: frequently\n",
      "Word 63: from\n",
      "Word 64: formal\n",
      "Word 65: ,\n",
      "Word 66: machine-readable\n",
      "Word 67: logical\n",
      "Word 68: forms\n",
      "Word 69: )\n",
      "Word 70: ,\n",
      "Word 71: connecting\n",
      "Word 72: language\n",
      "Word 73: and\n",
      "Word 74: machine\n",
      "Word 75: perception\n",
      "Word 76: ,\n",
      "Word 77: managing\n",
      "Word 78: human-computer\n",
      "Word 79: dialog\n",
      "Word 80: systems\n",
      "Word 81: ,\n",
      "Word 82: or\n",
      "Word 83: some\n",
      "Word 84: combination\n",
      "Word 85: thereof\n",
      "Word 86: .\n",
      "Word 87: There\n",
      "Word 88: are\n",
      "Word 89: 365\n",
      "Word 90: days\n",
      "Word 91: usually\n",
      "Word 92: .\n",
      "Word 93: This\n",
      "Word 94: year\n",
      "Word 95: is\n",
      "Word 96: 2020\n",
      "Word 97: .\n"
     ]
    }
   ],
   "source": [
    "# palabras\n",
    "tokens = word_tokenize(text)\n",
    "\n",
    "print('Word Tokenization:\\n')\n",
    "print(f'Tokens: {len(tokens)}\\n')\n",
    "for i,token in enumerate(tokens):\n",
    "    print(f'Word {i}: {token}')"
   ]
  },
  {
   "cell_type": "code",
   "execution_count": 75,
   "metadata": {},
   "outputs": [
    {
     "name": "stdout",
     "output_type": "stream",
     "text": [
      "List with Tokens (Words):\n",
      "\n",
      "['Natural', 'language', 'processing', '(', 'NLP', ')', 'is', 'a', 'field', 'of', 'computer', 'science', ',', 'artificial', 'intelligence', 'and', 'computational', 'linguistics', 'concerned', 'with', 'the', 'interactions', 'between', 'computers', 'and', 'human', '(', 'natural', ')', 'languages', ',', 'and', ',', 'in', 'particular', ',', 'concerned', 'with', 'programming', 'computers', 'to', 'fruitfully', 'process', 'large', 'natural', 'language', 'corpora', '.', 'Challenges', 'in', 'natural', 'language', 'processing', 'frequently', 'involve', 'natural', 'language', 'understanding', ',', 'natural', 'language', 'generation', 'frequently', 'from', 'formal', ',', 'machine-readable', 'logical', 'forms', ')', ',', 'connecting', 'language', 'and', 'machine', 'perception', ',', 'managing', 'human-computer', 'dialog', 'systems', ',', 'or', 'some', 'combination', 'thereof', '.', 'There', 'are', '365', 'days', 'usually', '.', 'This', 'year', 'is', '2020', '.']\n"
     ]
    }
   ],
   "source": [
    "print('List with Tokens (Words):\\n')\n",
    "print(word_tokenize(text))"
   ]
  },
  {
   "cell_type": "code",
   "execution_count": 76,
   "metadata": {},
   "outputs": [
    {
     "name": "stdout",
     "output_type": "stream",
     "text": [
      "Character Tokenization:\n",
      "N|a|t|u|r|a|l| |l|a|n|g|u|a|g|e| |p|r|o|c|e|s|s|i|n|g| |(|N|L|P|)| |i|s| |a| |f|i|e|l|d| |o|f| |c|o|m|p|u|t|e|r| |s|c|i|e|n|c|e|,| |a|r|t|i|f|i|c|i|a|l| |i|n|t|e|l|l|i|g|e|n|c|e| |a|n|d| |c|o|m|p|u|t|a|t|i|o|n|a|l| |l|i|n|g|u|i|s|t|i|c|s| |c|o|n|c|e|r|n|e|d| |w|i|t|h| |t|h|e| |i|n|t|e|r|a|c|t|i|o|n|s| |b|e|t|w|e|e|n| |c|o|m|p|u|t|e|r|s| |a|n|d| |h|u|m|a|n| |(|n|a|t|u|r|a|l|)| |l|a|n|g|u|a|g|e|s|,| |a|n|d|,| |i|n| |p|a|r|t|i|c|u|l|a|r|,| |c|o|n|c|e|r|n|e|d| |w|i|t|h| |p|r|o|g|r|a|m|m|i|n|g| |c|o|m|p|u|t|e|r|s| |t|o| |f|r|u|i|t|f|u|l|l|y| |p|r|o|c|e|s|s| |l|a|r|g|e| |n|a|t|u|r|a|l| |l|a|n|g|u|a|g|e| |c|o|r|p|o|r|a|.| |C|h|a|l|l|e|n|g|e|s| |i|n| |n|a|t|u|r|a|l| |l|a|n|g|u|a|g|e| |p|r|o|c|e|s|s|i|n|g| |f|r|e|q|u|e|n|t|l|y| |i|n|v|o|l|v|e| |n|a|t|u|r|a|l| |l|a|n|g|u|a|g|e| |u|n|d|e|r|s|t|a|n|d|i|n|g|,| |n|a|t|u|r|a|l| |l|a|n|g|u|a|g|e| |g|e|n|e|r|a|t|i|o|n| |f|r|e|q|u|e|n|t|l|y| |f|r|o|m| |f|o|r|m|a|l|,| |m|a|c|h|i|n|e|-|r|e|a|d|a|b|l|e| |l|o|g|i|c|a|l| |f|o|r|m|s|)|,| |c|o|n|n|e|c|t|i|n|g| |l|a|n|g|u|a|g|e| |a|n|d| |m|a|c|h|i|n|e| |p|e|r|c|e|p|t|i|o|n|,| |m|a|n|a|g|i|n|g| |h|u|m|a|n|-|c|o|m|p|u|t|e|r| |d|i|a|l|o|g| |s|y|s|t|e|m|s|,| |o|r| |s|o|m|e| |c|o|m|b|i|n|a|t|i|o|n| |t|h|e|r|e|o|f|.| |T|h|e|r|e| |a|r|e| |3|6|5| |d|a|y|s| |u|s|u|a|l|l|y|.| |T|h|i|s| |y|e|a|r| |i|s| |2|0|2|0|.| |"
     ]
    }
   ],
   "source": [
    "# characters\n",
    "chars = [char for char in text]\n",
    "print('Character Tokenization:')\n",
    "for i,char in enumerate(chars):\n",
    "    print(f'{char}', end='|')"
   ]
  },
  {
   "cell_type": "code",
   "execution_count": 77,
   "metadata": {},
   "outputs": [
    {
     "name": "stdout",
     "output_type": "stream",
     "text": [
      "List with Tokens (Characters):\n",
      "\n",
      "['N', 'a', 't', 'u', 'r', 'a', 'l', ' ', 'l', 'a', 'n', 'g', 'u', 'a', 'g', 'e', ' ', 'p', 'r', 'o', 'c', 'e', 's', 's', 'i', 'n', 'g', ' ', '(', 'N', 'L', 'P', ')', ' ', 'i', 's', ' ', 'a', ' ', 'f', 'i', 'e', 'l', 'd', ' ', 'o', 'f', ' ', 'c', 'o', 'm', 'p', 'u', 't', 'e', 'r', ' ', 's', 'c', 'i', 'e', 'n', 'c', 'e', ',', ' ', 'a', 'r', 't', 'i', 'f', 'i', 'c', 'i', 'a', 'l', ' ', 'i', 'n', 't', 'e', 'l', 'l', 'i', 'g', 'e', 'n', 'c', 'e', ' ', 'a', 'n', 'd', ' ', 'c', 'o', 'm', 'p', 'u', 't', 'a', 't', 'i', 'o', 'n', 'a', 'l', ' ', 'l', 'i', 'n', 'g', 'u', 'i', 's', 't', 'i', 'c', 's', ' ', 'c', 'o', 'n', 'c', 'e', 'r', 'n', 'e', 'd', ' ', 'w', 'i', 't', 'h', ' ', 't', 'h', 'e', ' ', 'i', 'n', 't', 'e', 'r', 'a', 'c', 't', 'i', 'o', 'n', 's', ' ', 'b', 'e', 't', 'w', 'e', 'e', 'n', ' ', 'c', 'o', 'm', 'p', 'u', 't', 'e', 'r', 's', ' ', 'a', 'n', 'd', ' ', 'h', 'u', 'm', 'a', 'n', ' ', '(', 'n', 'a', 't', 'u', 'r', 'a', 'l', ')', ' ', 'l', 'a', 'n', 'g', 'u', 'a', 'g', 'e', 's', ',', ' ', 'a', 'n', 'd', ',', ' ', 'i', 'n', ' ', 'p', 'a', 'r', 't', 'i', 'c', 'u', 'l', 'a', 'r', ',', ' ', 'c', 'o', 'n', 'c', 'e', 'r', 'n', 'e', 'd', ' ', 'w', 'i', 't', 'h', ' ', 'p', 'r', 'o', 'g', 'r', 'a', 'm', 'm', 'i', 'n', 'g', ' ', 'c', 'o', 'm', 'p', 'u', 't', 'e', 'r', 's', ' ', 't', 'o', ' ', 'f', 'r', 'u', 'i', 't', 'f', 'u', 'l', 'l', 'y', ' ', 'p', 'r', 'o', 'c', 'e', 's', 's', ' ', 'l', 'a', 'r', 'g', 'e', ' ', 'n', 'a', 't', 'u', 'r', 'a', 'l', ' ', 'l', 'a', 'n', 'g', 'u', 'a', 'g', 'e', ' ', 'c', 'o', 'r', 'p', 'o', 'r', 'a', '.', ' ', 'C', 'h', 'a', 'l', 'l', 'e', 'n', 'g', 'e', 's', ' ', 'i', 'n', ' ', 'n', 'a', 't', 'u', 'r', 'a', 'l', ' ', 'l', 'a', 'n', 'g', 'u', 'a', 'g', 'e', ' ', 'p', 'r', 'o', 'c', 'e', 's', 's', 'i', 'n', 'g', ' ', 'f', 'r', 'e', 'q', 'u', 'e', 'n', 't', 'l', 'y', ' ', 'i', 'n', 'v', 'o', 'l', 'v', 'e', ' ', 'n', 'a', 't', 'u', 'r', 'a', 'l', ' ', 'l', 'a', 'n', 'g', 'u', 'a', 'g', 'e', ' ', 'u', 'n', 'd', 'e', 'r', 's', 't', 'a', 'n', 'd', 'i', 'n', 'g', ',', ' ', 'n', 'a', 't', 'u', 'r', 'a', 'l', ' ', 'l', 'a', 'n', 'g', 'u', 'a', 'g', 'e', ' ', 'g', 'e', 'n', 'e', 'r', 'a', 't', 'i', 'o', 'n', ' ', 'f', 'r', 'e', 'q', 'u', 'e', 'n', 't', 'l', 'y', ' ', 'f', 'r', 'o', 'm', ' ', 'f', 'o', 'r', 'm', 'a', 'l', ',', ' ', 'm', 'a', 'c', 'h', 'i', 'n', 'e', '-', 'r', 'e', 'a', 'd', 'a', 'b', 'l', 'e', ' ', 'l', 'o', 'g', 'i', 'c', 'a', 'l', ' ', 'f', 'o', 'r', 'm', 's', ')', ',', ' ', 'c', 'o', 'n', 'n', 'e', 'c', 't', 'i', 'n', 'g', ' ', 'l', 'a', 'n', 'g', 'u', 'a', 'g', 'e', ' ', 'a', 'n', 'd', ' ', 'm', 'a', 'c', 'h', 'i', 'n', 'e', ' ', 'p', 'e', 'r', 'c', 'e', 'p', 't', 'i', 'o', 'n', ',', ' ', 'm', 'a', 'n', 'a', 'g', 'i', 'n', 'g', ' ', 'h', 'u', 'm', 'a', 'n', '-', 'c', 'o', 'm', 'p', 'u', 't', 'e', 'r', ' ', 'd', 'i', 'a', 'l', 'o', 'g', ' ', 's', 'y', 's', 't', 'e', 'm', 's', ',', ' ', 'o', 'r', ' ', 's', 'o', 'm', 'e', ' ', 'c', 'o', 'm', 'b', 'i', 'n', 'a', 't', 'i', 'o', 'n', ' ', 't', 'h', 'e', 'r', 'e', 'o', 'f', '.', ' ', 'T', 'h', 'e', 'r', 'e', ' ', 'a', 'r', 'e', ' ', '3', '6', '5', ' ', 'd', 'a', 'y', 's', ' ', 'u', 's', 'u', 'a', 'l', 'l', 'y', '.', ' ', 'T', 'h', 'i', 's', ' ', 'y', 'e', 'a', 'r', ' ', 'i', 's', ' ', '2', '0', '2', '0', '.', ' ']\n"
     ]
    }
   ],
   "source": [
    "print('List with Tokens (Characters):\\n')\n",
    "print(chars)"
   ]
  },
  {
   "cell_type": "markdown",
   "metadata": {},
   "source": [
    "### Tweets Tokenization"
   ]
  },
  {
   "cell_type": "code",
   "execution_count": 78,
   "metadata": {},
   "outputs": [
    {
     "name": "stdout",
     "output_type": "stream",
     "text": [
      "Tokens:\n",
      "\n",
      "['This', 'is', 'a', 'cooool', '#dummysmiley', ':', ':-)', ':-P', '<3', 'and', 'some', 'arrows', '<', '>', '->', '<--']\n"
     ]
    }
   ],
   "source": [
    "tknzr = TweetTokenizer()\n",
    "s0 = \"This is a cooool #dummysmiley: :-) :-P <3 and some arrows < > -> <--\"\n",
    "print('Tokens:\\n')\n",
    "print(tknzr.tokenize(s0))"
   ]
  },
  {
   "cell_type": "markdown",
   "metadata": {},
   "source": [
    "### Tweets Toknization using `strip_handles` and `reduce_len`"
   ]
  },
  {
   "cell_type": "code",
   "execution_count": 79,
   "metadata": {},
   "outputs": [
    {
     "name": "stdout",
     "output_type": "stream",
     "text": [
      "Tokens:\n",
      "\n",
      "[':', 'This', 'is', 'waaayyy', 'too', 'much', 'for', 'you', '!', '!', '!']\n"
     ]
    }
   ],
   "source": [
    "tknzr = TweetTokenizer(strip_handles=True, reduce_len=True)\n",
    "s1 = '@remy: This is waaaaayyyy too much for you!!!!!!'\n",
    "tw = tknzr.tokenize(s1)\n",
    "print('Tokens:\\n')\n",
    "print(tw)"
   ]
  },
  {
   "cell_type": "markdown",
   "metadata": {},
   "source": [
    "###  Transform Text to Lowercase"
   ]
  },
  {
   "cell_type": "code",
   "execution_count": 80,
   "metadata": {},
   "outputs": [
    {
     "name": "stdout",
     "output_type": "stream",
     "text": [
      "Tokens: 98\n",
      "\n",
      "['natural', 'language', 'processing', '(', 'nlp', ')', 'is', 'a', 'field', 'of', 'computer', 'science', ',', 'artificial', 'intelligence', 'and', 'computational', 'linguistics', 'concerned', 'with', 'the', 'interactions', 'between', 'computers', 'and', 'human', '(', 'natural', ')', 'languages', ',', 'and', ',', 'in', 'particular', ',', 'concerned', 'with', 'programming', 'computers', 'to', 'fruitfully', 'process', 'large', 'natural', 'language', 'corpora', '.', 'challenges', 'in', 'natural', 'language', 'processing', 'frequently', 'involve', 'natural', 'language', 'understanding', ',', 'natural', 'language', 'generation', 'frequently', 'from', 'formal', ',', 'machine-readable', 'logical', 'forms', ')', ',', 'connecting', 'language', 'and', 'machine', 'perception', ',', 'managing', 'human-computer', 'dialog', 'systems', ',', 'or', 'some', 'combination', 'thereof', '.', 'there', 'are', '365', 'days', 'usually', '.', 'this', 'year', 'is', '2020', '.']\n"
     ]
    }
   ],
   "source": [
    "tokens = [token.lower() for token in tokens]\n",
    "print(f'Tokens: {len(tokens)}\\n')\n",
    "print(tokens)"
   ]
  },
  {
   "cell_type": "markdown",
   "metadata": {
    "tags": []
   },
   "source": [
    "### Remove special characters - regular expressions (regex)"
   ]
  },
  {
   "cell_type": "markdown",
   "metadata": {},
   "source": [
    "Regular expressions are mathematical objects that allow you to interpret pieces of text.\n",
    "\n",
    "They are key in the construction of programming languages. Here we are going to use the Python [re](https://docs.python.org/3/library/re.html) library created for handling regular expressions. \n",
    "\n",
    "We suggest this [re in Python tutorial](https://www.w3schools.com/python/python_regex.asp) to learn how to use the re library.\n",
    "\n",
    "Aditionally, you can get the [Cheat-Sheet](https://cheatography.com/davechild/cheat-sheets/regular-expressions/) for regular expressions and an online tester [here](https://regexr.com/).\n",
    "\n",
    "We will use here to remove some symbols: numbers and parentheses for example. This is not always the case."
   ]
  },
  {
   "cell_type": "code",
   "execution_count": 81,
   "metadata": {},
   "outputs": [
    {
     "name": "stdout",
     "output_type": "stream",
     "text": [
      "Tokens: 98\n",
      "\n",
      "['natural', 'language', 'processing', '(', 'nlp', ')', 'is', 'a', 'field', 'of', 'computer', 'science', ',', 'artificial', 'intelligence', 'and', 'computational', 'linguistics', 'concerned', 'with', 'the', 'interactions', 'between', 'computers', 'and', 'human', '(', 'natural', ')', 'languages', ',', 'and', ',', 'in', 'particular', ',', 'concerned', 'with', 'programming', 'computers', 'to', 'fruitfully', 'process', 'large', 'natural', 'language', 'corpora', '.', 'challenges', 'in', 'natural', 'language', 'processing', 'frequently', 'involve', 'natural', 'language', 'understanding', ',', 'natural', 'language', 'generation', 'frequently', 'from', 'formal', ',', 'machine-readable', 'logical', 'forms', ')', ',', 'connecting', 'language', 'and', 'machine', 'perception', ',', 'managing', 'human-computer', 'dialog', 'systems', ',', 'or', 'some', 'combination', 'thereof', '.', 'there', 'are', '', 'days', 'usually', '.', 'this', 'year', 'is', '', '.']\n"
     ]
    }
   ],
   "source": [
    "import re\n",
    "# digits (CAREFULLY)\n",
    "tokens = [re.sub(r'\\d+', '',token) for token in tokens]\n",
    "print(f'Tokens: {len(tokens)}\\n')\n",
    "print(tokens)"
   ]
  },
  {
   "cell_type": "code",
   "execution_count": 82,
   "metadata": {},
   "outputs": [
    {
     "name": "stdout",
     "output_type": "stream",
     "text": [
      "Tokens: 98\n",
      "\n",
      "['natural', 'language', 'processing', '', 'nlp', '', 'is', 'a', 'field', 'of', 'computer', 'science', ',', 'artificial', 'intelligence', 'and', 'computational', 'linguistics', 'concerned', 'with', 'the', 'interactions', 'between', 'computers', 'and', 'human', '', 'natural', '', 'languages', ',', 'and', ',', 'in', 'particular', ',', 'concerned', 'with', 'programming', 'computers', 'to', 'fruitfully', 'process', 'large', 'natural', 'language', 'corpora', '.', 'challenges', 'in', 'natural', 'language', 'processing', 'frequently', 'involve', 'natural', 'language', 'understanding', ',', 'natural', 'language', 'generation', 'frequently', 'from', 'formal', ',', 'machine-readable', 'logical', 'forms', '', ',', 'connecting', 'language', 'and', 'machine', 'perception', ',', 'managing', 'human-computer', 'dialog', 'systems', ',', 'or', 'some', 'combination', 'thereof', '.', 'there', 'are', '', 'days', 'usually', '.', 'this', 'year', 'is', '', '.']\n"
     ]
    }
   ],
   "source": [
    "# parenthesis\n",
    "tokens = [re.sub(r'[()]', '',token) for token in tokens]\n",
    "print(f'Tokens: {len(tokens)}\\n')\n",
    "print(tokens)"
   ]
  },
  {
   "cell_type": "code",
   "execution_count": 83,
   "metadata": {},
   "outputs": [
    {
     "name": "stdout",
     "output_type": "stream",
     "text": [
      "Tokens: 98\n",
      "\n",
      "['natural', 'language', 'processing', '', 'nlp', '', 'is', 'a', 'field', 'of', 'computer', 'science', '', 'artificial', 'intelligence', 'and', 'computational', 'linguistics', 'concerned', 'with', 'the', 'interactions', 'between', 'computers', 'and', 'human', '', 'natural', '', 'languages', '', 'and', '', 'in', 'particular', '', 'concerned', 'with', 'programming', 'computers', 'to', 'fruitfully', 'process', 'large', 'natural', 'language', 'corpora', '', 'challenges', 'in', 'natural', 'language', 'processing', 'frequently', 'involve', 'natural', 'language', 'understanding', '', 'natural', 'language', 'generation', 'frequently', 'from', 'formal', '', 'machine-readable', 'logical', 'forms', '', '', 'connecting', 'language', 'and', 'machine', 'perception', '', 'managing', 'human-computer', 'dialog', 'systems', '', 'or', 'some', 'combination', 'thereof', '', 'there', 'are', '', 'days', 'usually', '', 'this', 'year', 'is', '', '']\n"
     ]
    }
   ],
   "source": [
    "# Take out punctuations and other symbols\n",
    "tokens = [re.sub(r'[^\\w\\s-]', '',token) for token in tokens]\n",
    "print(f'Tokens: {len(tokens)}\\n')\n",
    "print(tokens)"
   ]
  },
  {
   "cell_type": "code",
   "execution_count": 84,
   "metadata": {},
   "outputs": [
    {
     "name": "stdout",
     "output_type": "stream",
     "text": [
      "Tokens: 78\n",
      "\n",
      "['natural', 'language', 'processing', 'nlp', 'is', 'a', 'field', 'of', 'computer', 'science', 'artificial', 'intelligence', 'and', 'computational', 'linguistics', 'concerned', 'with', 'the', 'interactions', 'between', 'computers', 'and', 'human', 'natural', 'languages', 'and', 'in', 'particular', 'concerned', 'with', 'programming', 'computers', 'to', 'fruitfully', 'process', 'large', 'natural', 'language', 'corpora', 'challenges', 'in', 'natural', 'language', 'processing', 'frequently', 'involve', 'natural', 'language', 'understanding', 'natural', 'language', 'generation', 'frequently', 'from', 'formal', 'machine-readable', 'logical', 'forms', 'connecting', 'language', 'and', 'machine', 'perception', 'managing', 'human-computer', 'dialog', 'systems', 'or', 'some', 'combination', 'thereof', 'there', 'are', 'days', 'usually', 'this', 'year', 'is']\n"
     ]
    }
   ],
   "source": [
    "# Drop empty spaces\n",
    "tokens = [token for token in tokens if len(token)>0]\n",
    "print(f'Tokens: {len(tokens)}\\n')\n",
    "print(tokens)"
   ]
  },
  {
   "cell_type": "markdown",
   "metadata": {},
   "source": [
    "### Lemmatization"
   ]
  },
  {
   "cell_type": "markdown",
   "metadata": {},
   "source": [
    "**Lemmatization** is the process of grouping together the inflected forms of a word so they can be analysed as a single item, identified by the **word's lemma**, or dictionary form.\n",
    "\n",
    "**Stemming** is the process of reducing inflected (or sometimes derived) words to their **word stem**, base or root form—generally a written word form.\n",
    "\n",
    "Therefore, it links words with a meaning similar to a word.\n",
    "\n",
    "Text preprocessing includes both `Stemming` and `Lemmatization`.\n",
    "\n",
    "Many times people find these two terms confusing. Some treat these two as equals.\n",
    "\n",
    "Actually, **lematization is preferred to stemming** because stemming performs morphological analysis of words.\n",
    "\n",
    "The applications of the stemming are:\n",
    "\n",
    "- It is used in comprehensive retrieval systems such as search engines.\n",
    "- Used in compact indexing\n",
    "- Examples of stemming:\n",
    "\n",
    "**Example:**\n",
    "\n",
    "* rocks -> rock\n",
    "* corpora -> corpus\n",
    "* better -> good\n",
    "\n",
    "An important difference from stemming is that lemmatization takes a part of the voice parameter, \"pos\". If not provided, the default is \"noun\". In the following example we are going to place *pos = 'a'* which means adjective. If *pos = 'v'* is placed, it means verb. By default it is *pos = 'n'*, that is, a noun.\n",
    "\n",
    "The following is the stemming implementation of some English words using the *nltk* library:"
   ]
  },
  {
   "cell_type": "code",
   "execution_count": 85,
   "metadata": {},
   "outputs": [
    {
     "name": "stdout",
     "output_type": "stream",
     "text": [
      "rocks   -> rock\n",
      "corpora -> corpus\n",
      "better  -> good\n"
     ]
    }
   ],
   "source": [
    "#nltk.download('omw-1.4')\n",
    "\n",
    "from nltk.stem import WordNetLemmatizer \n",
    "  \n",
    "lemmatizer = WordNetLemmatizer() \n",
    "  \n",
    "print(\"rocks   ->\", lemmatizer.lemmatize(\"rocks\")) \n",
    "print(\"corpora ->\", lemmatizer.lemmatize(\"corpora\")) \n",
    "  \n",
    "# a denotes adjective in \"pos\" \n",
    "print(\"better  ->\", lemmatizer.lemmatize(\"better\", pos =\"a\")) "
   ]
  },
  {
   "cell_type": "code",
   "execution_count": 86,
   "metadata": {},
   "outputs": [],
   "source": [
    "#help(lemmatizer)"
   ]
  },
  {
   "cell_type": "markdown",
   "metadata": {},
   "source": [
    "Y ahora vamos lematizar el texto de ejemplo, primero con verbos y luego con sustantivos"
   ]
  },
  {
   "cell_type": "code",
   "execution_count": 87,
   "metadata": {},
   "outputs": [
    {
     "name": "stdout",
     "output_type": "stream",
     "text": [
      "Tokens:\n",
      "\n",
      "['natural', 'language', 'processing', 'nlp', 'is', 'a', 'field', 'of', 'computer', 'science', 'artificial', 'intelligence', 'and', 'computational', 'linguistics', 'concerned', 'with', 'the', 'interactions', 'between', 'computers', 'and', 'human', 'natural', 'languages', 'and', 'in', 'particular', 'concerned', 'with', 'programming', 'computers', 'to', 'fruitfully', 'process', 'large', 'natural', 'language', 'corpora', 'challenges', 'in', 'natural', 'language', 'processing', 'frequently', 'involve', 'natural', 'language', 'understanding', 'natural', 'language', 'generation', 'frequently', 'from', 'formal', 'machine-readable', 'logical', 'forms', 'connecting', 'language', 'and', 'machine', 'perception', 'managing', 'human-computer', 'dialog', 'systems', 'or', 'some', 'combination', 'thereof', 'there', 'are', 'days', 'usually', 'this', 'year', 'is']\n",
      "\n",
      "Lemmas with pos=\"v\":\n",
      "\n",
      "['natural', 'language', 'process', 'nlp', 'be', 'a', 'field', 'of', 'computer', 'science', 'artificial', 'intelligence', 'and', 'computational', 'linguistics', 'concern', 'with', 'the', 'interactions', 'between', 'computers', 'and', 'human', 'natural', 'languages', 'and', 'in', 'particular', 'concern', 'with', 'program', 'computers', 'to', 'fruitfully', 'process', 'large', 'natural', 'language', 'corpora', 'challenge', 'in', 'natural', 'language', 'process', 'frequently', 'involve', 'natural', 'language', 'understand', 'natural', 'language', 'generation', 'frequently', 'from', 'formal', 'machine-readable', 'logical', 'form', 'connect', 'language', 'and', 'machine', 'perception', 'manage', 'human-computer', 'dialog', 'systems', 'or', 'some', 'combination', 'thereof', 'there', 'be', 'days', 'usually', 'this', 'year', 'be']\n"
     ]
    }
   ],
   "source": [
    "from nltk.stem import WordNetLemmatizer\n",
    "#\n",
    "# verbs\n",
    "lemma_text =[]\n",
    "for token in tokens:\n",
    "    lemma_text.append(WordNetLemmatizer().lemmatize(token, pos='v'))\n",
    "\n",
    "print('Tokens:\\n')\n",
    "print(tokens)\n",
    "print('\\nLemmas with pos=\"v\":\\n')\n",
    "print(lemma_text)"
   ]
  },
  {
   "cell_type": "code",
   "execution_count": 88,
   "metadata": {},
   "outputs": [
    {
     "name": "stdout",
     "output_type": "stream",
     "text": [
      "\n",
      "Lemmas with pos=\"n\":\n",
      "\n",
      "['natural', 'language', 'process', 'nlp', 'be', 'a', 'field', 'of', 'computer', 'science', 'artificial', 'intelligence', 'and', 'computational', 'linguistics', 'concern', 'with', 'the', 'interaction', 'between', 'computer', 'and', 'human', 'natural', 'language', 'and', 'in', 'particular', 'concern', 'with', 'program', 'computer', 'to', 'fruitfully', 'process', 'large', 'natural', 'language', 'corpus', 'challenge', 'in', 'natural', 'language', 'process', 'frequently', 'involve', 'natural', 'language', 'understand', 'natural', 'language', 'generation', 'frequently', 'from', 'formal', 'machine-readable', 'logical', 'form', 'connect', 'language', 'and', 'machine', 'perception', 'manage', 'human-computer', 'dialog', 'system', 'or', 'some', 'combination', 'thereof', 'there', 'be', 'day', 'usually', 'this', 'year', 'be']\n"
     ]
    }
   ],
   "source": [
    "# nouns\n",
    "for i in range(len(lemma_text)):\n",
    "    lemma_text[i] = WordNetLemmatizer().lemmatize(lemma_text[i], pos=\"n\")\n",
    "print('\\nLemmas with pos=\"n\":\\n')\n",
    "print(lemma_text)"
   ]
  },
  {
   "cell_type": "markdown",
   "metadata": {},
   "source": [
    "### Stemming"
   ]
  },
  {
   "cell_type": "markdown",
   "metadata": {},
   "source": [
    "Steeming is the process of producing morphological variants of a root / base word. Bypass programs are commonly known as steeming or derivation algorithms. A stemming algorithm reduces the words as in the following examples\n",
    "\n",
    "+ \"chocolates\", \"chocolates\", \"choco\" at the root of the word, \"chocolate\"\n",
    "+ \"recovery\", \"recovered\", \"recover\" is reduced to the root \"recover\"."
   ]
  },
  {
   "cell_type": "markdown",
   "metadata": {},
   "source": [
    "### Potential problems:"
   ]
  },
  {
   "cell_type": "markdown",
   "metadata": {},
   "source": [
    "There are mainly two problems in stemming: overstemming and understemming.\n",
    "\n",
    "Excessive overclipping occurs when two words are derived from the same stem that have different roots.\n",
    "\n",
    "Undercutting occurs when two words are derived from the different stem but have the same root.\n",
    "\n",
    "For example, the widely used Porter stemmer stems \"universal\", \"university\", and \"universe\" to \"univers\". This is a case of overstemming: though these three words are etymologically related, their modern meanings are in widely different domains, so treating them as synonyms in a search engine will likely reduce the relevance of the search results.\n",
    "\n",
    "An example of understemming in the Porter stemmer is \"alumnus\" → \"alumnu\", \"alumni\" → \"alumni\", \"alumna\"/\"alumnae\" → \"alumna\". This English word keeps Latin morphology, and so these near-synonyms are not conflated.\n",
    "\n",
    "Lets see Stemming in practice:"
   ]
  },
  {
   "cell_type": "code",
   "execution_count": 89,
   "metadata": {},
   "outputs": [
    {
     "name": "stdout",
     "output_type": "stream",
     "text": [
      "['natur', 'languag', 'process', 'nlp', 'be', 'a', 'field', 'of', 'comput', 'scienc', 'artifici', 'intellig', 'and', 'comput', 'linguist', 'concern', 'with', 'the', 'interact', 'between', 'comput', 'and', 'human', 'natur', 'languag', 'and', 'in', 'particular', 'concern', 'with', 'program', 'comput', 'to', 'fruit', 'process', 'larg', 'natur', 'languag', 'corpu', 'challeng', 'in', 'natur', 'languag', 'process', 'frequent', 'involv', 'natur', 'languag', 'understand', 'natur', 'languag', 'gener', 'frequent', 'from', 'formal', 'machine-read', 'logic', 'form', 'connect', 'languag', 'and', 'machin', 'percept', 'manag', 'human-comput', 'dialog', 'system', 'or', 'some', 'combin', 'thereof', 'there', 'be', 'day', 'usual', 'thi', 'year', 'be']\n"
     ]
    }
   ],
   "source": [
    "#from nltk.stem import SnowballStemmer\n",
    "from nltk.stem import PorterStemmer \n",
    "# crea una instancia de PorterStemmer \n",
    "ps = PorterStemmer()\n",
    "\n",
    "stem_text = [0]*len(lemma_text)\n",
    "\n",
    "for i in range(len(lemma_text)):\n",
    "    stem_text[i] = ps.stem(lemma_text[i])\n",
    "print(stem_text)"
   ]
  },
  {
   "cell_type": "markdown",
   "metadata": {},
   "source": [
    "### Removes words of length less than or equal to two (CAREFULLY)"
   ]
  },
  {
   "cell_type": "code",
   "execution_count": 90,
   "metadata": {},
   "outputs": [
    {
     "name": "stdout",
     "output_type": "stream",
     "text": [
      "Tokens: 70\n",
      "\n",
      "['natural', 'language', 'processing', 'nlp', 'field', 'computer', 'science', 'artificial', 'intelligence', 'and', 'computational', 'linguistics', 'concerned', 'with', 'the', 'interactions', 'between', 'computers', 'and', 'human', 'natural', 'languages', 'and', 'particular', 'concerned', 'with', 'programming', 'computers', 'fruitfully', 'process', 'large', 'natural', 'language', 'corpora', 'challenges', 'natural', 'language', 'processing', 'frequently', 'involve', 'natural', 'language', 'understanding', 'natural', 'language', 'generation', 'frequently', 'from', 'formal', 'machine-readable', 'logical', 'forms', 'connecting', 'language', 'and', 'machine', 'perception', 'managing', 'human-computer', 'dialog', 'systems', 'some', 'combination', 'thereof', 'there', 'are', 'days', 'usually', 'this', 'year']\n"
     ]
    }
   ],
   "source": [
    "tokens_4 = []\n",
    "\n",
    "for token in tokens:\n",
    "    if len(token) > 2:\n",
    "        tokens_4.append(token)\n",
    "\n",
    "tokens = tokens_4\n",
    "\n",
    "# equivalent to\n",
    "#tokens_4 = [token for token in tokens if len(token)>3]\n",
    "\n",
    "print(f'Tokens: {len(tokens)}\\n')\n",
    "print(tokens)"
   ]
  },
  {
   "cell_type": "markdown",
   "metadata": {},
   "source": [
    "###  Stopwords"
   ]
  },
  {
   "cell_type": "markdown",
   "metadata": {},
   "source": [
    "Empty words or stopwords are words that in common language are **considered not to contribute to the semantic content of texts**. In the bag of words technique they are omitted, because they cause confusing classifications. Actually, the concept of empty words depends on the answer the researcher wants to get.\n",
    "\n",
    "The following example shows the dictionary of English stopwords contained in the `gensim` library."
   ]
  },
  {
   "cell_type": "code",
   "execution_count": 91,
   "metadata": {},
   "outputs": [
    {
     "name": "stdout",
     "output_type": "stream",
     "text": [
      "Stopwords in Gensim: 337\n",
      "\n",
      "['please', 'your', 'last', 'being', 'behind', 'how', 'anything', 'same', 'none', 'anyone', 'nobody', 'co', 'third', 'after', 'at', 'him', 'any', 'fifty', 'seemed', 'put', 'seems', 'couldnt', 'three', 'however', 'side', 'moreover', 'get', 'eg', 'mine', 'did', 'already', 'myself', 'system', 'such', 'front', 'otherwise', 'whither', 'ourselves', 'if', 'must', 'ten', 'my', 'only', 'do', 'more', 'interest', 'to', 'just', 'elsewhere', 'latterly', 'noone', 'serious', 'always', 'his', 'next', 'that', 'within', 'eight', 'it', 'due', 'therein', 'each', 'indeed', 'then', 'under', 'where', 'fifteen', 'their', 'take', 'was', 'enough', 'in', 'perhaps', 'for', 'is', 'while', 'she', 'either', 'towards', 'this', 'what', 'once', 'mostly', 'whereas', 'became', 'twelve', 'whether', 'as', 'cannot', 'whenever', 'thin', 'whom', 'had', 'whole', 'here', 'hers', 'fire', 'some', 'now', 'further', 'he', 'than', 'afterwards', 'wherein', 'beside', 'top', 'less', 'almost', 'every', 'regarding', 'nowhere', 'ltd', 'not', 'together', 'against', 'five', 'hence', 'doesn', 'others', 'everywhere', 'may', 'into', 'first', 'we', 'above', 'herself', 'various', 'does', 'me', 'thereupon', 'own', 'be', 'because', 'who', 'keep', 'and', 'on', 'sincere', 'across', 'mill', 'alone', 'becomes', 'very', 'hasnt', 'throughout', 'which', 'detail', 'both', 'amount', 'formerly', 'hundred', 'a', 'still', 'before', 'our', 'us', 'itself', 'km', 'give', 'why', 'nevertheless', 'don', 'have', 'among', 'hereafter', 'over', 'them', 'becoming', 'seeming', 'say', 'computer', 'without', 'around', 'much', 'become', 'besides', 'full', 'via', 'beyond', 'during', 'out', 'someone', 'himself', 'thence', 'ours', 'themselves', 'am', 'onto', 'former', 'wherever', 'nine', 'yourselves', 'they', 'forty', 'been', 'sometime', 'from', 'using', 'amongst', 'between', 'upon', 'amoungst', 'an', 'might', 'could', 'whose', 'done', 'bill', 'thru', 'yours', 'so', 'its', 'move', 'never', 'or', 'anywhere', 'nor', 'few', 'go', 'four', 'describe', 'her', 'make', 'nothing', 'yourself', 'even', 'name', 'ie', 'i', 'thus', 'un', 'are', 'somewhere', 'since', 'call', 'by', 'too', 'most', 'yet', 'doing', 'but', 'anyway', 'hereupon', 'meanwhile', 'six', 'eleven', 'no', 'sixty', 'rather', 'latter', 'whence', 'these', 'well', 'were', 're', 'used', 'except', 'there', 'etc', 'thick', 'until', 'whereafter', 'seem', 'hereby', 'made', 'anyhow', 'along', 'twenty', 'all', 'kg', 'those', 'though', 'whereby', 'everyone', 'will', 'often', 'beforehand', 'thereafter', 'sometimes', 'namely', 'when', 'one', 'therefore', 'the', 'down', 'empty', 'up', 'part', 'ever', 'thereby', 'something', 'with', 'has', 'cant', 'many', 'of', 'unless', 'although', 'quite', 'you', 'whereupon', 'would', 'toward', 'inc', 'found', 'really', 'whatever', 'least', 'de', 'show', 'herein', 'two', 'should', 'con', 'several', 'another', 'bottom', 'fill', 'find', 'back', 'everything', 'somehow', 'didn', 'about', 'through', 'see', 'per', 'neither', 'whoever', 'below', 'again', 'else', 'can', 'other', 'cry', 'off', 'also']\n"
     ]
    }
   ],
   "source": [
    "from gensim.parsing.preprocessing import STOPWORDS\n",
    "stopwords_gensim = list(STOPWORDS)\n",
    "print(f'Stopwords in Gensim: {len(stopwords_gensim)}\\n')\n",
    "print(stopwords_gensim)"
   ]
  },
  {
   "cell_type": "markdown",
   "metadata": {},
   "source": [
    "En la librería *nltk* el diciconario de palabras vacías del inglés es actualmente:"
   ]
  },
  {
   "cell_type": "code",
   "execution_count": 92,
   "metadata": {},
   "outputs": [
    {
     "name": "stdout",
     "output_type": "stream",
     "text": [
      "Stopwords in nltk: 179\n",
      "\n",
      "['i', 'me', 'my', 'myself', 'we', 'our', 'ours', 'ourselves', 'you', \"you're\", \"you've\", \"you'll\", \"you'd\", 'your', 'yours', 'yourself', 'yourselves', 'he', 'him', 'his', 'himself', 'she', \"she's\", 'her', 'hers', 'herself', 'it', \"it's\", 'its', 'itself', 'they', 'them', 'their', 'theirs', 'themselves', 'what', 'which', 'who', 'whom', 'this', 'that', \"that'll\", 'these', 'those', 'am', 'is', 'are', 'was', 'were', 'be', 'been', 'being', 'have', 'has', 'had', 'having', 'do', 'does', 'did', 'doing', 'a', 'an', 'the', 'and', 'but', 'if', 'or', 'because', 'as', 'until', 'while', 'of', 'at', 'by', 'for', 'with', 'about', 'against', 'between', 'into', 'through', 'during', 'before', 'after', 'above', 'below', 'to', 'from', 'up', 'down', 'in', 'out', 'on', 'off', 'over', 'under', 'again', 'further', 'then', 'once', 'here', 'there', 'when', 'where', 'why', 'how', 'all', 'any', 'both', 'each', 'few', 'more', 'most', 'other', 'some', 'such', 'no', 'nor', 'not', 'only', 'own', 'same', 'so', 'than', 'too', 'very', 's', 't', 'can', 'will', 'just', 'don', \"don't\", 'should', \"should've\", 'now', 'd', 'll', 'm', 'o', 're', 've', 'y', 'ain', 'aren', \"aren't\", 'couldn', \"couldn't\", 'didn', \"didn't\", 'doesn', \"doesn't\", 'hadn', \"hadn't\", 'hasn', \"hasn't\", 'haven', \"haven't\", 'isn', \"isn't\", 'ma', 'mightn', \"mightn't\", 'mustn', \"mustn't\", 'needn', \"needn't\", 'shan', \"shan't\", 'shouldn', \"shouldn't\", 'wasn', \"wasn't\", 'weren', \"weren't\", 'won', \"won't\", 'wouldn', \"wouldn't\"]\n"
     ]
    }
   ],
   "source": [
    "from nltk.corpus import stopwords\n",
    "#\n",
    "stopwords_nltk = stopwords.words('english')\n",
    "print(f'Stopwords in nltk: {len(stopwords_nltk)}\\n')\n",
    "print(stopwords_nltk)"
   ]
  },
  {
   "cell_type": "markdown",
   "metadata": {},
   "source": [
    "### Note 1"
   ]
  },
  {
   "cell_type": "markdown",
   "metadata": {},
   "source": [
    "Notice that the two sets of stopwords are different.\n",
    "\n",
    "In fact, the common words are:"
   ]
  },
  {
   "cell_type": "code",
   "execution_count": 93,
   "metadata": {},
   "outputs": [
    {
     "name": "stdout",
     "output_type": "stream",
     "text": [
      "Common Stopwords: 126\n",
      "\n",
      "{'had', 'your', 'being', 'here', 'hers', 'during', 'out', 'how', 'himself', 'all', 'some', 'he', 'further', 'now', 'than', 'ours', 'themselves', 'am', 'same', 'those', 'yourselves', 'will', 'after', 'they', 'at', 'him', 'any', 'been', 'not', 'from', 'against', 'when', 'between', 'did', 'the', 'down', 'doesn', 'an', 'whom', 'myself', 'into', 'yours', 'up', 'such', 'we', 'its', 'so', 'above', 'or', 'nor', 'with', 'herself', 'has', 'few', 'me', 'does', 'own', 'ourselves', 'be', 'her', 'if', 'because', 'who', 'of', 'and', 'my', 'only', 'yourself', 'do', 'on', 'more', 'to', 'you', 'just', 'i', 'very', 'which', 'his', 'that', 'are', 'both', 'it', 'a', 'before', 'our', 'each', 'by', 'then', 'itself', 'too', 'most', 'under', 'doing', 'where', 'why', 'their', 'but', 'don', 'should', 'was', 'in', 'for', 'is', 'have', 'no', 'while', 'she', 'didn', 'over', 'about', 'them', 'through', 'this', 'what', 'these', 'once', 'were', 're', 'there', 'below', 'again', 'other', 'can', 'as', 'off', 'until'}\n"
     ]
    }
   ],
   "source": [
    "inter = set(stopwords_gensim).intersection(set(stopwords_nltk))\n",
    "print(f'Common Stopwords: {len(inter)}\\n')\n",
    "print(inter)"
   ]
  },
  {
   "cell_type": "markdown",
   "metadata": {},
   "source": [
    "As an example we are going to remove the empty words from the tokenized text object defined above."
   ]
  },
  {
   "cell_type": "markdown",
   "metadata": {},
   "source": [
    "### Note 2"
   ]
  },
  {
   "cell_type": "markdown",
   "metadata": {},
   "source": [
    "There is another library, called **SpaCy**, that also contains another set of stopwords:"
   ]
  },
  {
   "cell_type": "code",
   "execution_count": 94,
   "metadata": {},
   "outputs": [
    {
     "name": "stdout",
     "output_type": "stream",
     "text": [
      "Stopwords in SpaCy: 326\n",
      "\n",
      "['please', 'your', 'last', 'being', 'behind', 'how', 'anything', 'same', 'none', 'anyone', 'nobody', 'third', 'after', 'at', 'him', 'any', 'fifty', 'seemed', 'put', \"'s\", 'seems', 'three', 'however', 'side', 'moreover', 'get', \"'ll\", 'mine', 'already', 'did', 'myself', 'such', 'front', 'otherwise', 'ca', 'whither', 'ourselves', 'if', 'must', 'my', 'ten', 'only', 'do', 'more', 'to', 'elsewhere', 'just', 'latterly', 'noone', 'serious', 'always', 'his', 'next', 'that', 'within', 'eight', 'it', 'due', 'therein', 'each', 'indeed', 'then', 'under', 'where', 'fifteen', 'their', 'take', 'was', 'enough', 'in', 'perhaps', 'for', 'is', 'while', 'she', 'either', 'towards', 'this', 'what', 'once', 'mostly', 'whereas', 'became', 'twelve', \"n't\", 'as', 'whether', 'cannot', 'whom', 'whenever', 'had', 'whole', 'here', 'hers', 'some', 'he', 'further', 'now', 'afterwards', 'than', 'wherein', 'beside', 'top', 'less', 'almost', 'every', 'regarding', 'nowhere', 'not', 'together', 'against', 'five', 'hence', 'others', 'everywhere', 'may', 'first', 'into', 'we', 'above', 'herself', 'me', 'does', 'various', 'thereupon', 'own', 'be', 'because', 'who', 'keep', 'and', '‘ve', 'on', 'across', 'alone', 'becomes', 'very', 'throughout', 'which', 'both', 'amount', 'formerly', 'hundred', 'a', \"'m\", 'still', 'before', 'n‘t', 'our', 'us', 'itself', 'give', \"'d\", 'why', 'nevertheless', 'have', 'among', 'hereafter', 'over', 'them', '‘ll', 'becoming', 'seeming', 'say', 'without', 'around', 'become', 'much', 'besides', 'full', 'via', '’m', 'beyond', 'during', 'out', 'someone', 'himself', 'thence', 'ours', 'themselves', 'am', 'onto', 'former', 'wherever', 'nine', '‘m', 'yourselves', \"'re\", 'they', 'forty', 'been', 'from', 'sometime', 'using', 'amongst', 'between', 'upon', 'an', 'might', 'could', 'whose', 'done', 'thru', 'yours', 'so', 'its', 'move', 'never', 'or', 'anywhere', 'nor', 'few', 'go', 'four', 'her', 'make', 'nothing', 'yourself', 'even', 'name', '’ll', 'i', 'thus', 'are', 'somewhere', 'since', 'call', '’d', 'by', 'too', 'most', 'yet', 'doing', 'but', 'anyway', 'hereupon', 'meanwhile', 'six', 'eleven', 'no', '’ve', 'sixty', 'rather', 'latter', 'whence', 'these', 'well', 'were', 're', 'used', 'except', '’s', 'there', 'until', 'seem', 'whereafter', 'hereby', 'made', 'anyhow', 'along', 'twenty', 'all', '‘re', '‘s', 'those', 'though', 'whereby', 'everyone', 'will', 'often', 'beforehand', 'thereafter', 'sometimes', 'namely', 'when', 'one', 'therefore', 'the', 'down', 'empty', 'up', 'part', 'ever', 'thereby', 'something', 'with', 'has', \"'ve\", 'many', 'of', 'unless', 'although', 'quite', 'you', 'whereupon', '’re', 'would', 'toward', 'really', 'whatever', 'least', 'herein', 'show', 'two', 'should', 'several', 'another', 'bottom', 'back', 'everything', 'somehow', 'about', 'through', 'n’t', 'see', 'per', 'neither', 'whoever', 'below', 'again', 'else', 'can', 'other', '‘d', 'off', 'also']\n"
     ]
    }
   ],
   "source": [
    "import spacy\n",
    "\n",
    "# install models with spaCy\n",
    "# !python -m spacy download en_core_web_sm\n",
    "\n",
    "# Load model\n",
    "nlp = spacy.load('en_core_web_sm')\n",
    "\n",
    "# Take stopwords from SpaCy\n",
    "stopwords_spacy = list(nlp.Defaults.stop_words)\n",
    "\n",
    "print(f'Stopwords in SpaCy: {len(stopwords_spacy)}\\n')\n",
    "print(stopwords_spacy)"
   ]
  },
  {
   "cell_type": "markdown",
   "metadata": {},
   "source": [
    "### Stopwords in Spanish using ntlk"
   ]
  },
  {
   "cell_type": "code",
   "execution_count": 95,
   "metadata": {},
   "outputs": [
    {
     "name": "stdout",
     "output_type": "stream",
     "text": [
      "Palabras Vacías en nltk, español: 313\n",
      "\n",
      "['de', 'la', 'que', 'el', 'en', 'y', 'a', 'los', 'del', 'se', 'las', 'por', 'un', 'para', 'con', 'no', 'una', 'su', 'al', 'lo', 'como', 'más', 'pero', 'sus', 'le', 'ya', 'o', 'este', 'sí', 'porque', 'esta', 'entre', 'cuando', 'muy', 'sin', 'sobre', 'también', 'me', 'hasta', 'hay', 'donde', 'quien', 'desde', 'todo', 'nos', 'durante', 'todos', 'uno', 'les', 'ni', 'contra', 'otros', 'ese', 'eso', 'ante', 'ellos', 'e', 'esto', 'mí', 'antes', 'algunos', 'qué', 'unos', 'yo', 'otro', 'otras', 'otra', 'él', 'tanto', 'esa', 'estos', 'mucho', 'quienes', 'nada', 'muchos', 'cual', 'poco', 'ella', 'estar', 'estas', 'algunas', 'algo', 'nosotros', 'mi', 'mis', 'tú', 'te', 'ti', 'tu', 'tus', 'ellas', 'nosotras', 'vosotros', 'vosotras', 'os', 'mío', 'mía', 'míos', 'mías', 'tuyo', 'tuya', 'tuyos', 'tuyas', 'suyo', 'suya', 'suyos', 'suyas', 'nuestro', 'nuestra', 'nuestros', 'nuestras', 'vuestro', 'vuestra', 'vuestros', 'vuestras', 'esos', 'esas', 'estoy', 'estás', 'está', 'estamos', 'estáis', 'están', 'esté', 'estés', 'estemos', 'estéis', 'estén', 'estaré', 'estarás', 'estará', 'estaremos', 'estaréis', 'estarán', 'estaría', 'estarías', 'estaríamos', 'estaríais', 'estarían', 'estaba', 'estabas', 'estábamos', 'estabais', 'estaban', 'estuve', 'estuviste', 'estuvo', 'estuvimos', 'estuvisteis', 'estuvieron', 'estuviera', 'estuvieras', 'estuviéramos', 'estuvierais', 'estuvieran', 'estuviese', 'estuvieses', 'estuviésemos', 'estuvieseis', 'estuviesen', 'estando', 'estado', 'estada', 'estados', 'estadas', 'estad', 'he', 'has', 'ha', 'hemos', 'habéis', 'han', 'haya', 'hayas', 'hayamos', 'hayáis', 'hayan', 'habré', 'habrás', 'habrá', 'habremos', 'habréis', 'habrán', 'habría', 'habrías', 'habríamos', 'habríais', 'habrían', 'había', 'habías', 'habíamos', 'habíais', 'habían', 'hube', 'hubiste', 'hubo', 'hubimos', 'hubisteis', 'hubieron', 'hubiera', 'hubieras', 'hubiéramos', 'hubierais', 'hubieran', 'hubiese', 'hubieses', 'hubiésemos', 'hubieseis', 'hubiesen', 'habiendo', 'habido', 'habida', 'habidos', 'habidas', 'soy', 'eres', 'es', 'somos', 'sois', 'son', 'sea', 'seas', 'seamos', 'seáis', 'sean', 'seré', 'serás', 'será', 'seremos', 'seréis', 'serán', 'sería', 'serías', 'seríamos', 'seríais', 'serían', 'era', 'eras', 'éramos', 'erais', 'eran', 'fui', 'fuiste', 'fue', 'fuimos', 'fuisteis', 'fueron', 'fuera', 'fueras', 'fuéramos', 'fuerais', 'fueran', 'fuese', 'fueses', 'fuésemos', 'fueseis', 'fuesen', 'sintiendo', 'sentido', 'sentida', 'sentidos', 'sentidas', 'siente', 'sentid', 'tengo', 'tienes', 'tiene', 'tenemos', 'tenéis', 'tienen', 'tenga', 'tengas', 'tengamos', 'tengáis', 'tengan', 'tendré', 'tendrás', 'tendrá', 'tendremos', 'tendréis', 'tendrán', 'tendría', 'tendrías', 'tendríamos', 'tendríais', 'tendrían', 'tenía', 'tenías', 'teníamos', 'teníais', 'tenían', 'tuve', 'tuviste', 'tuvo', 'tuvimos', 'tuvisteis', 'tuvieron', 'tuviera', 'tuvieras', 'tuviéramos', 'tuvierais', 'tuvieran', 'tuviese', 'tuvieses', 'tuviésemos', 'tuvieseis', 'tuviesen', 'teniendo', 'tenido', 'tenida', 'tenidos', 'tenidas', 'tened']\n"
     ]
    }
   ],
   "source": [
    "palabrasVacias_nltk = stopwords.words('spanish')\n",
    "print(f'Palabras Vacías en nltk, español: {len(palabrasVacias_nltk)}\\n')\n",
    "print(palabrasVacias_nltk)"
   ]
  },
  {
   "cell_type": "markdown",
   "metadata": {},
   "source": [
    "**Let's remove the stop words from the example using nltk**"
   ]
  },
  {
   "cell_type": "code",
   "execution_count": 96,
   "metadata": {},
   "outputs": [
    {
     "name": "stdout",
     "output_type": "stream",
     "text": [
      "Tokens: 70\n",
      "\n",
      "['natural', 'language', 'processing', 'nlp', 'field', 'computer', 'science', 'artificial', 'intelligence', 'and', 'computational', 'linguistics', 'concerned', 'with', 'the', 'interactions', 'between', 'computers', 'and', 'human', 'natural', 'languages', 'and', 'particular', 'concerned', 'with', 'programming', 'computers', 'fruitfully', 'process', 'large', 'natural', 'language', 'corpora', 'challenges', 'natural', 'language', 'processing', 'frequently', 'involve', 'natural', 'language', 'understanding', 'natural', 'language', 'generation', 'frequently', 'from', 'formal', 'machine-readable', 'logical', 'forms', 'connecting', 'language', 'and', 'machine', 'perception', 'managing', 'human-computer', 'dialog', 'systems', 'some', 'combination', 'thereof', 'there', 'are', 'days', 'usually', 'this', 'year']\n"
     ]
    }
   ],
   "source": [
    "print(f'Tokens: {len(tokens)}\\n')\n",
    "print(tokens)"
   ]
  },
  {
   "cell_type": "code",
   "execution_count": 97,
   "metadata": {},
   "outputs": [
    {
     "name": "stdout",
     "output_type": "stream",
     "text": [
      "Tokens: 57\n",
      "\n",
      "['natural', 'language', 'process', 'nlp', 'field', 'computer', 'science', 'artificial', 'intelligence', 'computational', 'linguistics', 'concern', 'interaction', 'computer', 'human', 'natural', 'language', 'particular', 'concern', 'program', 'computer', 'fruitfully', 'process', 'large', 'natural', 'language', 'corpus', 'challenge', 'natural', 'language', 'process', 'frequently', 'involve', 'natural', 'language', 'understand', 'natural', 'language', 'generation', 'frequently', 'formal', 'machine-readable', 'logical', 'form', 'connect', 'language', 'machine', 'perception', 'manage', 'human-computer', 'dialog', 'system', 'combination', 'thereof', 'day', 'usually', 'year']\n"
     ]
    }
   ],
   "source": [
    "tokens_n_e = [token for token in lemma_text if token not in stopwords_nltk]\n",
    "#\n",
    "tokens = tokens_n_e\n",
    "print(f'Tokens: {len(tokens)}\\n')\n",
    "print(tokens)"
   ]
  },
  {
   "cell_type": "markdown",
   "metadata": {},
   "source": [
    "## <span style=\"color:blue\">TF-IDF</span> "
   ]
  },
  {
   "cell_type": "markdown",
   "metadata": {},
   "source": [
    "Taken from [Wikipedia](https://es.wikipedia.org/wiki/Tf-idf).\n",
    "\n",
    "Tf-idf (Term frequency - Inverse document frequency), term frequency - inverse document frequency (that is, the frequency of occurrence of the term in the corpus of documents), is a numerical measure that expresses how relevant a word is for a document in a corpus. This measure is often used as a weighting factor in information retrieval and text mining.\n",
    "\n",
    "\n",
    "The tf-idf value increases proportionally to the number of times a word appears in the document, but is offset by the frequency of the word in the document corpus, which allows handling of the fact that some words are generally more common than others.\n",
    "\n",
    "Variations of the tf-idf weight scheme are frequently used by search engines as a fundamental tool to measure the relevance of a document given a user's query, thus establishing an ordering or ranking of them.\n",
    "\n",
    "\n",
    "Tf-idf can be used successfully for filtering stop-words, in different fields of pre-word processing."
   ]
  },
  {
   "cell_type": "markdown",
   "metadata": {},
   "source": [
    "### Mathematical details"
   ]
  },
  {
   "cell_type": "markdown",
   "metadata": {},
   "source": [
    "Tf-idf is the product of two measurements, *term frequency* and *inverse document frequency*. There are several ways to determine the value of both.\n",
    "\n",
    "In the case of the term frequency $ \\text {tf} (t, d) $, the simplest option is to use the raw frequency of the term $ t $ in the document $ d $, that is, the number of times that the term $ t $ occurs in the document $ d $. If we denote the raw frequency of $ t $ by $ f (t, d) $, then the simple $ \\text {tf} $ schema is $ \\text {tf} (t, d) = f (t, d) $ .\n",
    "\n",
    "\n",
    "Other possibilities are:\n",
    "\n",
    "- *Boolean \"frequencies*: tf (t, d) = 1 if t occurs in d, and 0 if not;\n",
    "- *logarithmically scaled frequency*: tf (t, d) = 1 + log f (t, d) (y 0 if f (t, d) = 0);\n",
    "- *standardized frequency*, to avoid a bias towards long documents. For example, divide the raw frequency by the maximum frequency of some term in the document:\n",
    "\n",
    "$$\n",
    "{\\displaystyle \\mathrm {tf} (t,d)={\\frac {\\mathrm {f} (t,d)}{\\max\\{\\mathrm {f} (t,d):t\\in d\\}}}}\n",
    "$$\n",
    "\n",
    "The inverse document frequency is a measure of whether the term is common or not, in the corpus of documents. It is obtained by dividing the total number of documents by the number of documents that contain the term, and the logarithm of this quotient is taken:\n",
    "\n",
    "$$\n",
    "{\\displaystyle \\mathrm {idf} (t,D)=\\log {\\frac {|D|}{|\\{d\\in D:t\\in d\\}|}}}\n",
    "$$\n",
    "\n",
    "where\n",
    "\n",
    "- ${\\displaystyle |D|}$: cardinality of $D$, or number of documents in the corpus.\n",
    "- ${\\displaystyle |\\{d\\in D:t\\in d\\}|}$ : number of documents where the term $ t $ appears. If the term is not in the collection, a division-by-zero will occur. Therefore, it is common to fit this formula to ${\\displaystyle 1+|\\{d\\in D:t\\in d\\}|}$.\n",
    "\n",
    "Mathematically, the base of the logarithm function is not important and is a constant factor in the final result.\n",
    "\n",
    "Hencem *tf-idf* is calculated as:\n",
    "\n",
    "$$\n",
    "{\\displaystyle \\text{tf-idf} (t,d,D)=\\mathrm {tf} (t,d)\\times \\mathrm {idf} (t,D)}\n",
    "$$\n",
    "\n",
    "A high weight in *tf-idf* is reached with a high frequency of term (in the given document) and a low frequency of occurrence of the term in corpus of documents.\n",
    "\n",
    "Since the quotient within the logarithm function of the idf is always greater than or equal to 1, the value of *idf* (and of *tf-idf*) is greater than or equal to 0.\n",
    "\n",
    "When a term appears in many documents, the quotient within the logarithm approaches 1, giving a value of *idf* and *tf-idf* close to 0."
   ]
  },
  {
   "cell_type": "markdown",
   "metadata": {},
   "source": [
    "[[Go Back]](#Content)"
   ]
  },
  {
   "cell_type": "markdown",
   "metadata": {},
   "source": [
    "## <span style=\"color:blue\">Generative Models: Latent Dirichlet Allocation</span>"
   ]
  },
  {
   "cell_type": "markdown",
   "metadata": {},
   "source": [
    "The Latent Dirichlet Allocation (LDA) technique is currently the most used for the extraction of documents from document corpus and is due to [Blei et al](https://www.jmlr.org/papers/volume3/blei03a/blei03a.pdf). "
   ]
  },
  {
   "cell_type": "markdown",
   "metadata": {},
   "source": [
    "### Central ideas behind LDA, Blei et al.(2003)"
   ]
  },
  {
   "cell_type": "markdown",
   "metadata": {},
   "source": [
    "The central ideas behind LDA are as follows. The generative model assumes that the documents are generated as follows:\n",
    "\n",
    "1. The size $ N $ of the document is generated by a Poisson distribution $ \\text {Poi} (\\xi) $.\n",
    "2. The topics are generated from a multinomial distribution with a probability vector $ \\mathbf {\\theta} $.\n",
    "3. A priori it is assumed that the vector $ \\mathbf {\\theta} $ is generated by a Dirichlet distribution with vector of parameters $ \\boldsymbol {\\alpha} $. From this derives the name of the technique.\n",
    "4. Each of the $ N $ words in a document is generated according to the following algorithm.\n",
    "      - A topic is chosen $ z_n \\sim \\text {Multinomial} (\\mathbf {\\theta}) $.\n",
    "      - The word $ w_n \\sim \\text {P} (w_n | z_n, \\mathbf {\\beta}) $ is chosen. Where $ \\mathbf {\\beta} $ is a matrix of probabilities of the words belonging to the topics. $ P $ is a multinomial probability conditional on the topic $ z_n $ and the vector of parameters $ \\mathbf {\\beta} $.\n",
    "\n",
    "\n",
    "To the reader interested in the details, we refer him to the original paper of [Blei et al.](https://www.jmlr.org/papers/volume3/blei03a/blei03a.pdf)."
   ]
  },
  {
   "cell_type": "markdown",
   "metadata": {},
   "source": [
    "The following image tries to show the central ideas behind the technique."
   ]
  },
  {
   "cell_type": "markdown",
   "metadata": {},
   "source": [
    "\n",
    "<figure>\n",
    "<center>\n",
    "<img src=\"../Imagenes/Diagram_Blei.png\" width=\"800\" height=\"700\" align=\"center\"/>\n",
    "</center>\n",
    "<figcaption>\n",
    "<p style=\"text-align:center\">Intuition behind LDA</p>\n",
    "</figcaption>\n",
    "</figure>\n",
    "\n",
    "Fuente: \n",
    "[Intuition behind LDA](http://www.cs.cornell.edu/courses/cs6784/2010sp/lecture/30-BleiEtAl03.pdf)"
   ]
  },
  {
   "cell_type": "markdown",
   "metadata": {},
   "source": [
    "Topic modeling is a type of statistical modeling to discover the abstract \"themes\" that occur in a collection of documents. Latent Dirichlet Allocation (LDA) is an example of a topic model and is used to classify the text of a document on a particular topic.\n",
    "\n",
    "Build a topic model per document and words per topic model, modeled as Dirichlet distributions.\n",
    "\n",
    "Here we are going to apply LDA to a set of documents and divide them into topics. Let us begin!"
   ]
  },
  {
   "cell_type": "markdown",
   "metadata": {},
   "source": [
    "### Importing libraries"
   ]
  },
  {
   "cell_type": "code",
   "execution_count": 98,
   "metadata": {},
   "outputs": [
    {
     "name": "stderr",
     "output_type": "stream",
     "text": [
      "[nltk_data] Downloading package wordnet to /Users/moury/nltk_data...\n",
      "[nltk_data]   Package wordnet is already up-to-date!\n"
     ]
    },
    {
     "data": {
      "text/plain": [
       "True"
      ]
     },
     "execution_count": 98,
     "metadata": {},
     "output_type": "execute_result"
    }
   ],
   "source": [
    "import gensim\n",
    "from gensim.utils import simple_preprocess\n",
    "from gensim.parsing.preprocessing import STOPWORDS\n",
    "from nltk.stem import WordNetLemmatizer, SnowballStemmer\n",
    "from nltk.stem.porter import *\n",
    "import numpy as np\n",
    "np.random.seed(2018)\n",
    "import nltk\n",
    "nltk.download('wordnet')"
   ]
  },
  {
   "cell_type": "markdown",
   "metadata": {},
   "source": [
    "We are going to write a function that lemmatizes and preprocesses the dataset"
   ]
  },
  {
   "cell_type": "code",
   "execution_count": 100,
   "metadata": {},
   "outputs": [],
   "source": [
    "from nltk.stem import PorterStemmer \n",
    "\n",
    "def lemmatize_stemming(text):\n",
    "    #ps = PorterStemmer()\n",
    "    #return ps.stem(WordNetLemmatizer().lemmatize(text, pos='v'))\n",
    "    return WordNetLemmatizer().lemmatize(text, pos='v')\n",
    "\n",
    "def preprocess(text):\n",
    "    result = []\n",
    "    for token in gensim.utils.simple_preprocess(text): #  gensim.utils.simple_preprocess tokenizes the text\n",
    "        if token not in gensim.parsing.preprocessing.STOPWORDS and len(token) > 2:\n",
    "            result.append(lemmatize_stemming(token))\n",
    "    return result"
   ]
  },
  {
   "cell_type": "markdown",
   "metadata": {},
   "source": [
    "[[Go Back]](#Content)"
   ]
  },
  {
   "cell_type": "markdown",
   "metadata": {},
   "source": [
    "## <span style=\"color:blue\">Example: One million headlines</span>"
   ]
  },
  {
   "cell_type": "markdown",
   "metadata": {},
   "source": [
    "The dataset we will use is a list of over a million news headlines published over a 15-year period and can be downloaded from [Kaggle](https://www.kaggle.com/therohk/million-headlines/metadata)."
   ]
  },
  {
   "cell_type": "markdown",
   "metadata": {},
   "source": [
    "Example adapted from [Topic Modeling and Latent Dirichlet Allocation (LDA) in Python](https://towardsdatascience.com/topic-modeling-and-latent-dirichlet-allocation-in-python-9bf156893c24)"
   ]
  },
  {
   "cell_type": "code",
   "execution_count": 101,
   "metadata": {},
   "outputs": [],
   "source": [
    "import pandas as pd\n",
    "data = pd.read_csv('../Datos/abcnews-date-text.csv');"
   ]
  },
  {
   "cell_type": "code",
   "execution_count": 102,
   "metadata": {},
   "outputs": [
    {
     "data": {
      "text/html": [
       "<div>\n",
       "<style scoped>\n",
       "    .dataframe tbody tr th:only-of-type {\n",
       "        vertical-align: middle;\n",
       "    }\n",
       "\n",
       "    .dataframe tbody tr th {\n",
       "        vertical-align: top;\n",
       "    }\n",
       "\n",
       "    .dataframe thead th {\n",
       "        text-align: right;\n",
       "    }\n",
       "</style>\n",
       "<table border=\"1\" class=\"dataframe\">\n",
       "  <thead>\n",
       "    <tr style=\"text-align: right;\">\n",
       "      <th></th>\n",
       "      <th>publish_date</th>\n",
       "      <th>headline_text</th>\n",
       "    </tr>\n",
       "  </thead>\n",
       "  <tbody>\n",
       "    <tr>\n",
       "      <th>0</th>\n",
       "      <td>20030219</td>\n",
       "      <td>aba decides against community broadcasting lic...</td>\n",
       "    </tr>\n",
       "    <tr>\n",
       "      <th>1</th>\n",
       "      <td>20030219</td>\n",
       "      <td>act fire witnesses must be aware of defamation</td>\n",
       "    </tr>\n",
       "    <tr>\n",
       "      <th>2</th>\n",
       "      <td>20030219</td>\n",
       "      <td>a g calls for infrastructure protection summit</td>\n",
       "    </tr>\n",
       "    <tr>\n",
       "      <th>3</th>\n",
       "      <td>20030219</td>\n",
       "      <td>air nz staff in aust strike for pay rise</td>\n",
       "    </tr>\n",
       "    <tr>\n",
       "      <th>4</th>\n",
       "      <td>20030219</td>\n",
       "      <td>air nz strike to affect australian travellers</td>\n",
       "    </tr>\n",
       "    <tr>\n",
       "      <th>...</th>\n",
       "      <td>...</td>\n",
       "      <td>...</td>\n",
       "    </tr>\n",
       "    <tr>\n",
       "      <th>1226253</th>\n",
       "      <td>20201231</td>\n",
       "      <td>what abc readers learned from 2020 looking bac...</td>\n",
       "    </tr>\n",
       "    <tr>\n",
       "      <th>1226254</th>\n",
       "      <td>20201231</td>\n",
       "      <td>what are the south african and uk variants of ...</td>\n",
       "    </tr>\n",
       "    <tr>\n",
       "      <th>1226255</th>\n",
       "      <td>20201231</td>\n",
       "      <td>what victorias coronavirus restrictions mean f...</td>\n",
       "    </tr>\n",
       "    <tr>\n",
       "      <th>1226256</th>\n",
       "      <td>20201231</td>\n",
       "      <td>whats life like as an american doctor during c...</td>\n",
       "    </tr>\n",
       "    <tr>\n",
       "      <th>1226257</th>\n",
       "      <td>20201231</td>\n",
       "      <td>womens shed canberra reskilling unemployed pan...</td>\n",
       "    </tr>\n",
       "  </tbody>\n",
       "</table>\n",
       "<p>1226258 rows × 2 columns</p>\n",
       "</div>"
      ],
      "text/plain": [
       "         publish_date                                      headline_text\n",
       "0            20030219  aba decides against community broadcasting lic...\n",
       "1            20030219     act fire witnesses must be aware of defamation\n",
       "2            20030219     a g calls for infrastructure protection summit\n",
       "3            20030219           air nz staff in aust strike for pay rise\n",
       "4            20030219      air nz strike to affect australian travellers\n",
       "...               ...                                                ...\n",
       "1226253      20201231  what abc readers learned from 2020 looking bac...\n",
       "1226254      20201231  what are the south african and uk variants of ...\n",
       "1226255      20201231  what victorias coronavirus restrictions mean f...\n",
       "1226256      20201231  whats life like as an american doctor during c...\n",
       "1226257      20201231  womens shed canberra reskilling unemployed pan...\n",
       "\n",
       "[1226258 rows x 2 columns]"
      ]
     },
     "execution_count": 102,
     "metadata": {},
     "output_type": "execute_result"
    }
   ],
   "source": [
    "data"
   ]
  },
  {
   "cell_type": "markdown",
   "metadata": {},
   "source": [
    "Lets check some data:"
   ]
  },
  {
   "cell_type": "code",
   "execution_count": 103,
   "metadata": {},
   "outputs": [
    {
     "data": {
      "text/html": [
       "<div>\n",
       "<style scoped>\n",
       "    .dataframe tbody tr th:only-of-type {\n",
       "        vertical-align: middle;\n",
       "    }\n",
       "\n",
       "    .dataframe tbody tr th {\n",
       "        vertical-align: top;\n",
       "    }\n",
       "\n",
       "    .dataframe thead th {\n",
       "        text-align: right;\n",
       "    }\n",
       "</style>\n",
       "<table border=\"1\" class=\"dataframe\">\n",
       "  <thead>\n",
       "    <tr style=\"text-align: right;\">\n",
       "      <th></th>\n",
       "      <th>headline_text</th>\n",
       "    </tr>\n",
       "  </thead>\n",
       "  <tbody>\n",
       "    <tr>\n",
       "      <th>758376</th>\n",
       "      <td>labor could lose 18 seats: poll</td>\n",
       "    </tr>\n",
       "    <tr>\n",
       "      <th>502490</th>\n",
       "      <td>brother wants answers on scientologists suicide</td>\n",
       "    </tr>\n",
       "    <tr>\n",
       "      <th>596952</th>\n",
       "      <td>woman pleads guilty to glassing</td>\n",
       "    </tr>\n",
       "    <tr>\n",
       "      <th>552404</th>\n",
       "      <td>greens unveil 2050 renewable energy plan</td>\n",
       "    </tr>\n",
       "    <tr>\n",
       "      <th>928549</th>\n",
       "      <td>colleen mccullough internationally acclaimed</td>\n",
       "    </tr>\n",
       "  </tbody>\n",
       "</table>\n",
       "</div>"
      ],
      "text/plain": [
       "                                          headline_text\n",
       "758376                  labor could lose 18 seats: poll\n",
       "502490  brother wants answers on scientologists suicide\n",
       "596952                  woman pleads guilty to glassing\n",
       "552404         greens unveil 2050 renewable energy plan\n",
       "928549     colleen mccullough internationally acclaimed"
      ]
     },
     "execution_count": 103,
     "metadata": {},
     "output_type": "execute_result"
    }
   ],
   "source": [
    "data_text = data[['headline_text']]\n",
    "documents = data_text\n",
    "documents.sample(5)"
   ]
  },
  {
   "cell_type": "code",
   "execution_count": 107,
   "metadata": {},
   "outputs": [
    {
     "name": "stdout",
     "output_type": "stream",
     "text": [
      "Original Document: 610125\n",
      "['shire', 'warns', 'of', 'rates', 'slug']\n",
      "\n",
      "\n",
      "Tokenized and Lemmatized Document: \n",
      "['shire', 'warn', 'rat', 'slug']\n"
     ]
    }
   ],
   "source": [
    "sample = np.random.choice(documents.index)\n",
    "doc_sample = documents.iloc[sample].values[0]\n",
    "print(f'Original Document: {sample}')\n",
    "words = []\n",
    "for word in doc_sample.split(' '):\n",
    "    words.append(word)\n",
    "print(words)\n",
    "print('\\n\\nTokenized and Lemmatized Document: ')\n",
    "print(preprocess(doc_sample))"
   ]
  },
  {
   "cell_type": "markdown",
   "metadata": {},
   "source": [
    "### Text Preprocessing"
   ]
  },
  {
   "cell_type": "markdown",
   "metadata": {},
   "source": [
    "We are going to pre-process the texts, saving the results in the *processed_docs* object."
   ]
  },
  {
   "cell_type": "code",
   "execution_count": 108,
   "metadata": {},
   "outputs": [],
   "source": [
    "processed_docs = documents['headline_text'].map(preprocess)"
   ]
  },
  {
   "cell_type": "code",
   "execution_count": 116,
   "metadata": {},
   "outputs": [
    {
     "data": {
      "text/plain": [
       "1160073    [fake, heiress, anna, sorokin, trial, swindle,...\n",
       "453615                   [outback, exhibition, sawreys, son]\n",
       "933687             [cold, chisel, music, hall, fame, honour]\n",
       "194066                  [baggaley, test, positive, steroids]\n",
       "819128                        [public, school, zone, change]\n",
       "1035518         [food, aid, png, highlanders, whove, hungry]\n",
       "111968                               [remain, coy, election]\n",
       "842018     [baby, illusion, trick, parent, underestimate,...\n",
       "166464                 [kessler, begin, mind, game, mundine]\n",
       "636539               [salvation, army, block, pokie, reform]\n",
       "Name: headline_text, dtype: object"
      ]
     },
     "execution_count": 116,
     "metadata": {},
     "output_type": "execute_result"
    }
   ],
   "source": [
    "processed_docs.sample(10)"
   ]
  },
  {
   "cell_type": "markdown",
   "metadata": {},
   "source": [
    "### Building the dictionary"
   ]
  },
  {
   "cell_type": "markdown",
   "metadata": {},
   "source": [
    "We create a dictionary from *processed_docs* that contains the number of times a word appears in the training set."
   ]
  },
  {
   "cell_type": "code",
   "execution_count": 122,
   "metadata": {},
   "outputs": [
    {
     "name": "stdout",
     "output_type": "stream",
     "text": [
      "0 aba\n",
      "1 broadcast\n",
      "2 community\n",
      "3 decide\n",
      "4 licence\n",
      "5 act\n",
      "6 aware\n",
      "7 defamation\n",
      "8 witness\n",
      "9 call\n",
      "10 infrastructure\n"
     ]
    }
   ],
   "source": [
    "dictionary = gensim.corpora.Dictionary(processed_docs)\n",
    "count = 0\n",
    "for k, v in dictionary.iteritems():\n",
    "    print(k, v)\n",
    "    count += 1\n",
    "    if count > 10:\n",
    "        break"
   ]
  },
  {
   "cell_type": "code",
   "execution_count": 111,
   "metadata": {},
   "outputs": [
    {
     "data": {
      "text/plain": [
       "[('police', 39637),\n",
       " ('new', 32832),\n",
       " ('man', 31783),\n",
       " ('say', 23733),\n",
       " ('plan', 23503),\n",
       " ('charge', 21039),\n",
       " ('court', 18418),\n",
       " ('win', 18040),\n",
       " ('govt', 17057),\n",
       " ('council', 16934)]"
      ]
     },
     "execution_count": 111,
     "metadata": {},
     "output_type": "execute_result"
    }
   ],
   "source": [
    "dictionary.most_common()[:10]"
   ]
  },
  {
   "cell_type": "code",
   "execution_count": 112,
   "metadata": {},
   "outputs": [
    {
     "data": {
      "text/plain": [
       "[('petrinja', 1),\n",
       " ('letlow', 1),\n",
       " ('louisianas', 1),\n",
       " ('sunburst', 1),\n",
       " ('hammon', 1),\n",
       " ('serological', 1),\n",
       " ('gilligans', 1),\n",
       " ('gjerdrum', 1),\n",
       " ('ryszard', 1),\n",
       " ('ziebicki', 1)]"
      ]
     },
     "execution_count": 112,
     "metadata": {},
     "output_type": "execute_result"
    }
   ],
   "source": [
    "dictionary.most_common()[-10:]"
   ]
  },
  {
   "cell_type": "markdown",
   "metadata": {},
   "source": [
    "Filter the tokens that appear in\n",
    "less than 15 documents (absolute number) or\n",
    "more than 0.5 documents (fraction of the total size of the corpus, not an absolute number).\n",
    "After the previous two steps, keep only the first 100,000 most frequent tokens."
   ]
  },
  {
   "cell_type": "code",
   "execution_count": 138,
   "metadata": {
    "tags": []
   },
   "outputs": [],
   "source": [
    "dictionary.filter_extremes(no_below=15, no_above=0.5, keep_n=100000)"
   ]
  },
  {
   "cell_type": "code",
   "execution_count": 114,
   "metadata": {},
   "outputs": [
    {
     "data": {
      "text/plain": [
       "[('police', 39637),\n",
       " ('new', 32832),\n",
       " ('man', 31783),\n",
       " ('say', 23733),\n",
       " ('plan', 23503),\n",
       " ('charge', 21039),\n",
       " ('court', 18418),\n",
       " ('win', 18040),\n",
       " ('govt', 17057),\n",
       " ('council', 16934)]"
      ]
     },
     "execution_count": 114,
     "metadata": {},
     "output_type": "execute_result"
    }
   ],
   "source": [
    "dictionary.most_common()[:10]"
   ]
  },
  {
   "cell_type": "code",
   "execution_count": 115,
   "metadata": {},
   "outputs": [
    {
     "data": {
      "text/plain": [
       "[('petrusma', 15),\n",
       " ('szubanski', 15),\n",
       " ('kunduz', 15),\n",
       " ('wark', 15),\n",
       " ('psyllid', 15),\n",
       " ('manmeet', 15),\n",
       " ('influencer', 15),\n",
       " ('tayla', 15),\n",
       " ('tsitsipas', 15),\n",
       " ('remdesivir', 15)]"
      ]
     },
     "execution_count": 115,
     "metadata": {},
     "output_type": "execute_result"
    }
   ],
   "source": [
    "dictionary.most_common()[-10:]"
   ]
  },
  {
   "cell_type": "markdown",
   "metadata": {},
   "source": [
    "### Gensim doc2bow"
   ]
  },
  {
   "cell_type": "markdown",
   "metadata": {},
   "source": [
    "For each document we create a dictionary that informs how many\n",
    "words and how many times those words appear.\n",
    "\n",
    "We put this in the *bow_corpus* object, then check our previously selected document."
   ]
  },
  {
   "cell_type": "code",
   "execution_count": 139,
   "metadata": {},
   "outputs": [],
   "source": [
    "bow_corpus = [dictionary.doc2bow(doc) for doc in processed_docs]"
   ]
  },
  {
   "cell_type": "code",
   "execution_count": 151,
   "metadata": {},
   "outputs": [
    {
     "name": "stdout",
     "output_type": "stream",
     "text": [
      "\n",
      "Original Document: 836194\n",
      "\n",
      "glenn stevens jawboning moves currency markets \n",
      "\n",
      "Preprocessed Document:\n",
      "\n",
      "['glenn', 'stevens', 'jawbone', 'move', 'currency', 'market'] \n",
      "\n",
      "Bag of Words (BoW):\n",
      "\n",
      "[(134, 1), (1210, 1), (3813, 1), (10802, 1), (15511, 1)] \n",
      "\n",
      "Word 134 (\"move\") appears 1 time.\n",
      "Word 1210 (\"market\") appears 1 time.\n",
      "Word 3813 (\"stevens\") appears 1 time.\n",
      "Word 10802 (\"currency\") appears 1 time.\n",
      "Word 15511 (\"glenn\") appears 1 time.\n"
     ]
    }
   ],
   "source": [
    "sample = np.random.choice(documents.index)\n",
    "\n",
    "doc_sample = documents.iloc[sample].values[0]\n",
    "print(f'\\nOriginal Document: {sample}\\n')\n",
    "print(doc_sample,'\\n')\n",
    "\n",
    "print(f'Preprocessed Document:\\n')\n",
    "print(preprocess(doc_sample),'\\n')\n",
    "\n",
    "print('Bag of Words (BoW):\\n')\n",
    "print(bow_corpus[sample],'\\n')\n",
    "\n",
    "bow_doc = bow_corpus[sample]\n",
    "for i in range(len(bow_doc)):\n",
    "    print(\"Word {} (\\\"{}\\\") appears {} time.\".format(bow_doc[i][0], \n",
    "                                               dictionary[bow_doc[i][0]],\n",
    "                                               bow_doc[i][1]))"
   ]
  },
  {
   "cell_type": "markdown",
   "metadata": {},
   "source": [
    "This is a preview of the bag of words in the preprocessed document."
   ]
  },
  {
   "cell_type": "markdown",
   "metadata": {},
   "source": [
    "### TF-IDF"
   ]
  },
  {
   "cell_type": "markdown",
   "metadata": {},
   "source": [
    "We create a model object *tf-idf* using `models.TfidfModel` from \"bow_corpus\" and put it in *tfidf*, then we apply the transformation to the whole corpus and call it *corpus_tfidf*. Finally, we preview the *TF-IDF* scores for our first document."
   ]
  },
  {
   "cell_type": "code",
   "execution_count": 152,
   "metadata": {},
   "outputs": [
    {
     "name": "stdout",
     "output_type": "stream",
     "text": [
      "['aba', 'decide', 'community', 'broadcast', 'licence'] \n",
      "\n",
      "[(0, 1), (1, 1), (2, 1), (3, 1), (4, 1)] \n",
      "\n",
      "[(0, 0.5863507508585383),\n",
      " (1, 0.47944651191141213),\n",
      " (2, 0.3189341943751364),\n",
      " (3, 0.40582870318062153),\n",
      " (4, 0.3998848365675126)]\n"
     ]
    }
   ],
   "source": [
    "from gensim import corpora, models\n",
    "tfidf = models.TfidfModel(bow_corpus)\n",
    "corpus_tfidf = tfidf[bow_corpus]\n",
    "\n",
    "print(processed_docs[0],'\\n')\n",
    "print(bow_corpus[0],'\\n')\n",
    "from pprint import pprint\n",
    "for doc in corpus_tfidf:\n",
    "    pprint(doc)\n",
    "    break"
   ]
  },
  {
   "cell_type": "markdown",
   "metadata": {},
   "source": [
    "### Running LDA using TF-IDF"
   ]
  },
  {
   "cell_type": "code",
   "execution_count": 153,
   "metadata": {
    "tags": []
   },
   "outputs": [],
   "source": [
    "lda_model_tfidf = gensim.models.LdaMulticore(corpus_tfidf, num_topics=10, id2word=dictionary, passes=4, workers=8)"
   ]
  },
  {
   "cell_type": "markdown",
   "metadata": {},
   "source": [
    "**How many topics should we choose?** You can read [Evaluate Topic Models: Latent Dirichlet Allocation (LDA)](https://towardsdatascience.com/evaluate-topic-model-in-python-latent-dirichlet-allocation-lda-7d57484bb5d0)."
   ]
  },
  {
   "cell_type": "code",
   "execution_count": 154,
   "metadata": {},
   "outputs": [
    {
     "name": "stdout",
     "output_type": "stream",
     "text": [
      "Topic: 0 Word: 0.012*\"abc\" + 0.008*\"sport\" + 0.008*\"david\" + 0.008*\"friday\" + 0.006*\"video\" + 0.006*\"august\" + 0.006*\"september\" + 0.00\n",
      "Topic: 1 Word: 0.007*\"country\" + 0.007*\"health\" + 0.007*\"fund\" + 0.007*\"nsw\" + 0.006*\"government\" + 0.006*\"hour\" + 0.006*\"plan\" + 0.005\n",
      "Topic: 2 Word: 0.012*\"interview\" + 0.008*\"australia\" + 0.008*\"live\" + 0.008*\"world\" + 0.008*\"afl\" + 0.008*\"win\" + 0.008*\"cup\" + 0.007*\"\n",
      "Topic: 3 Word: 0.015*\"news\" + 0.015*\"market\" + 0.011*\"rural\" + 0.008*\"climate\" + 0.008*\"share\" + 0.007*\"business\" + 0.007*\"tuesday\" + 0\n",
      "Topic: 4 Word: 0.017*\"coronavirus\" + 0.011*\"covid\" + 0.008*\"royal\" + 0.008*\"christmas\" + 0.006*\"case\" + 0.006*\"new\" + 0.006*\"commission\n",
      "Topic: 5 Word: 0.014*\"donald\" + 0.008*\"grandstand\" + 0.006*\"finance\" + 0.006*\"domestic\" + 0.006*\"july\" + 0.006*\"october\" + 0.006*\"pande\n",
      "Topic: 6 Word: 0.009*\"kill\" + 0.009*\"weather\" + 0.008*\"flood\" + 0.006*\"queensland\" + 0.006*\"bushfire\" + 0.005*\"border\" + 0.005*\"south\" \n",
      "Topic: 7 Word: 0.025*\"trump\" + 0.014*\"drum\" + 0.009*\"monday\" + 0.009*\"wednesday\" + 0.009*\"thursday\" + 0.007*\"peter\" + 0.005*\"open\" + 0.\n",
      "Topic: 8 Word: 0.021*\"man\" + 0.019*\"police\" + 0.016*\"charge\" + 0.012*\"murder\" + 0.011*\"woman\" + 0.010*\"court\" + 0.010*\"crash\" + 0.009*\"\n",
      "Topic: 9 Word: 0.012*\"election\" + 0.008*\"labor\" + 0.006*\"say\" + 0.006*\"party\" + 0.005*\"government\" + 0.005*\"abbott\" + 0.005*\"liberal\" +\n"
     ]
    }
   ],
   "source": [
    "for idx, topic in lda_model_tfidf.print_topics(-1):\n",
    "    print('Topic: {} Word: {}'.format(idx, topic[:120]))"
   ]
  },
  {
   "cell_type": "code",
   "execution_count": 159,
   "metadata": {},
   "outputs": [
    {
     "data": {
      "text/html": [
       "<div>\n",
       "<style scoped>\n",
       "    .dataframe tbody tr th:only-of-type {\n",
       "        vertical-align: middle;\n",
       "    }\n",
       "\n",
       "    .dataframe tbody tr th {\n",
       "        vertical-align: top;\n",
       "    }\n",
       "\n",
       "    .dataframe thead th {\n",
       "        text-align: right;\n",
       "    }\n",
       "</style>\n",
       "<table border=\"1\" class=\"dataframe\">\n",
       "  <thead>\n",
       "    <tr style=\"text-align: right;\">\n",
       "      <th></th>\n",
       "      <th>headline_text</th>\n",
       "    </tr>\n",
       "  </thead>\n",
       "  <tbody>\n",
       "    <tr>\n",
       "      <th>5172</th>\n",
       "      <td>abc mercury successful at tas media awards</td>\n",
       "    </tr>\n",
       "    <tr>\n",
       "      <th>6597</th>\n",
       "      <td>abc cameraman australias first casualty in iraq</td>\n",
       "    </tr>\n",
       "    <tr>\n",
       "      <th>6598</th>\n",
       "      <td>abc cameraman killed in iraq car bomb attack</td>\n",
       "    </tr>\n",
       "    <tr>\n",
       "      <th>6991</th>\n",
       "      <td>sombre mood in iraq abc cameraman</td>\n",
       "    </tr>\n",
       "    <tr>\n",
       "      <th>8794</th>\n",
       "      <td>war rules out any abc budget boost mp</td>\n",
       "    </tr>\n",
       "    <tr>\n",
       "      <th>...</th>\n",
       "      <td>...</td>\n",
       "    </tr>\n",
       "    <tr>\n",
       "      <th>1225549</th>\n",
       "      <td>jim graham abc radio melbourne newsreader dies</td>\n",
       "    </tr>\n",
       "    <tr>\n",
       "      <th>1225618</th>\n",
       "      <td>abc news adelaide</td>\n",
       "    </tr>\n",
       "    <tr>\n",
       "      <th>1225807</th>\n",
       "      <td>abc friday news quiz state library coronavirus...</td>\n",
       "    </tr>\n",
       "    <tr>\n",
       "      <th>1225977</th>\n",
       "      <td>lonely cancer diagnosis for abc producer jo wo...</td>\n",
       "    </tr>\n",
       "    <tr>\n",
       "      <th>1226253</th>\n",
       "      <td>what abc readers learned from 2020 looking bac...</td>\n",
       "    </tr>\n",
       "  </tbody>\n",
       "</table>\n",
       "<p>6527 rows × 1 columns</p>\n",
       "</div>"
      ],
      "text/plain": [
       "                                             headline_text\n",
       "5172            abc mercury successful at tas media awards\n",
       "6597       abc cameraman australias first casualty in iraq\n",
       "6598          abc cameraman killed in iraq car bomb attack\n",
       "6991                     sombre mood in iraq abc cameraman\n",
       "8794                 war rules out any abc budget boost mp\n",
       "...                                                    ...\n",
       "1225549     jim graham abc radio melbourne newsreader dies\n",
       "1225618                                  abc news adelaide\n",
       "1225807  abc friday news quiz state library coronavirus...\n",
       "1225977  lonely cancer diagnosis for abc producer jo wo...\n",
       "1226253  what abc readers learned from 2020 looking bac...\n",
       "\n",
       "[6527 rows x 1 columns]"
      ]
     },
     "execution_count": 159,
     "metadata": {},
     "output_type": "execute_result"
    }
   ],
   "source": [
    "documents[documents['headline_text'].str.contains('abc\\s',regex=True)]"
   ]
  },
  {
   "cell_type": "markdown",
   "metadata": {},
   "source": [
    "Can you distinguish different topics using the words in each topic and their corresponding weights?"
   ]
  },
  {
   "cell_type": "markdown",
   "metadata": {},
   "source": [
    "### Performance evaluation classifying the sample document using the LDA TF-IDF model."
   ]
  },
  {
   "cell_type": "code",
   "execution_count": 161,
   "metadata": {},
   "outputs": [
    {
     "name": "stdout",
     "output_type": "stream",
     "text": [
      "\n",
      "Original Document: 1208835\n",
      "\n",
      "victoria messenger call out coronavirus lockdown \n",
      "\n",
      "Score: 0.34878379106521606\t Topic: 0.012*\"interview\" + 0.008*\"australia\" + 0.008*\"live\" + 0.008*\"world\" + 0.008*\"afl\"\n",
      "Score: 0.2945343554019928\t Topic: 0.017*\"coronavirus\" + 0.011*\"covid\" + 0.008*\"royal\" + 0.008*\"christmas\" + 0.006*\"case\"\n",
      "Score: 0.04459632560610771\t Topic: 0.009*\"kill\" + 0.009*\"weather\" + 0.008*\"flood\" + 0.006*\"queensland\" + 0.006*\"bushfire\"\n",
      "Score: 0.044591229408979416\t Topic: 0.007*\"country\" + 0.007*\"health\" + 0.007*\"fund\" + 0.007*\"nsw\" + 0.006*\"government\"\n",
      "Score: 0.04458342865109444\t Topic: 0.021*\"man\" + 0.019*\"police\" + 0.016*\"charge\" + 0.012*\"murder\" + 0.011*\"woman\"\n",
      "Score: 0.0445830300450325\t Topic: 0.015*\"news\" + 0.015*\"market\" + 0.011*\"rural\" + 0.008*\"climate\" + 0.008*\"share\"\n",
      "Score: 0.0445830263197422\t Topic: 0.025*\"trump\" + 0.014*\"drum\" + 0.009*\"monday\" + 0.009*\"wednesday\" + 0.009*\"thursday\"\n",
      "Score: 0.0445827916264534\t Topic: 0.014*\"donald\" + 0.008*\"grandstand\" + 0.006*\"finance\" + 0.006*\"domestic\" + 0.006*\"july\"\n",
      "Score: 0.0445818230509758\t Topic: 0.012*\"election\" + 0.008*\"labor\" + 0.006*\"say\" + 0.006*\"party\" + 0.005*\"government\"\n",
      "Score: 0.04458022490143776\t Topic: 0.012*\"abc\" + 0.008*\"sport\" + 0.008*\"david\" + 0.008*\"friday\" + 0.006*\"video\"\n"
     ]
    }
   ],
   "source": [
    "sample = np.random.choice(documents.index)\n",
    "\n",
    "doc_sample = documents.iloc[sample].values[0]\n",
    "\n",
    "print(f'\\nOriginal Document: {sample}\\n')\n",
    "print(doc_sample,'\\n')\n",
    "\n",
    "bow_vector = dictionary.doc2bow(preprocess(doc_sample))\n",
    "tfidf_vector = tfidf[bow_vector]\n",
    "\n",
    "for index, score in sorted(lda_model_tfidf[tfidf_vector], key=lambda tup: -1*tup[1]):\n",
    "    print(\"Score: {}\\t Topic: {}\".format(score, lda_model_tfidf.print_topic(index, 5)))"
   ]
  },
  {
   "cell_type": "markdown",
   "metadata": {},
   "source": [
    "Nuestro documento de prueba tiene la mayor probabilidad de ser parte del tema que asignó nuestro modelo, que es la clasificación precisa."
   ]
  },
  {
   "cell_type": "markdown",
   "metadata": {},
   "source": [
    "## Test the model with a document not seen before."
   ]
  },
  {
   "cell_type": "code",
   "execution_count": 162,
   "metadata": {},
   "outputs": [
    {
     "name": "stdout",
     "output_type": "stream",
     "text": [
      "\n",
      "Original Document:\n",
      "How a Pentagon deal became an identity crisis for Google \n",
      "\n",
      "Score: 0.3701004981994629\t Topic: 0.012*\"election\" + 0.008*\"labor\" + 0.006*\"say\" + 0.006*\"party\" + 0.005*\"government\"\n",
      "Score: 0.22407329082489014\t Topic: 0.012*\"abc\" + 0.008*\"sport\" + 0.008*\"david\" + 0.008*\"friday\" + 0.006*\"video\"\n",
      "Score: 0.18651853501796722\t Topic: 0.021*\"man\" + 0.019*\"police\" + 0.016*\"charge\" + 0.012*\"murder\" + 0.011*\"woman\"\n",
      "Score: 0.03133571147918701\t Topic: 0.009*\"kill\" + 0.009*\"weather\" + 0.008*\"flood\" + 0.006*\"queensland\" + 0.006*\"bushfire\"\n",
      "Score: 0.03133415803313255\t Topic: 0.007*\"country\" + 0.007*\"health\" + 0.007*\"fund\" + 0.007*\"nsw\" + 0.006*\"government\"\n",
      "Score: 0.031331587582826614\t Topic: 0.015*\"news\" + 0.015*\"market\" + 0.011*\"rural\" + 0.008*\"climate\" + 0.008*\"share\"\n",
      "Score: 0.03132820874452591\t Topic: 0.017*\"coronavirus\" + 0.011*\"covid\" + 0.008*\"royal\" + 0.008*\"christmas\" + 0.006*\"case\"\n",
      "Score: 0.03132686764001846\t Topic: 0.012*\"interview\" + 0.008*\"australia\" + 0.008*\"live\" + 0.008*\"world\" + 0.008*\"afl\"\n",
      "Score: 0.0313260592520237\t Topic: 0.014*\"donald\" + 0.008*\"grandstand\" + 0.006*\"finance\" + 0.006*\"domestic\" + 0.006*\"july\"\n",
      "Score: 0.031325072050094604\t Topic: 0.025*\"trump\" + 0.014*\"drum\" + 0.009*\"monday\" + 0.009*\"wednesday\" + 0.009*\"thursday\"\n"
     ]
    }
   ],
   "source": [
    "unseen_document = 'How a Pentagon deal became an identity crisis for Google'\n",
    "\n",
    "print(f'\\nOriginal Document:')\n",
    "print(unseen_document,'\\n')\n",
    "\n",
    "bow_vector = dictionary.doc2bow(preprocess(unseen_document))\n",
    "tfidf_vector = tfidf[bow_vector]\n",
    "for index, score in sorted(lda_model_tfidf[tfidf_vector], key=lambda tup: -1*tup[1]):\n",
    "    print(\"Score: {}\\t Topic: {}\".format(score, lda_model_tfidf.print_topic(index, 5)))"
   ]
  },
  {
   "cell_type": "markdown",
   "metadata": {},
   "source": [
    "## Selecting Number of Topics"
   ]
  },
  {
   "cell_type": "code",
   "execution_count": 163,
   "metadata": {},
   "outputs": [
    {
     "name": "stdout",
     "output_type": "stream",
     "text": [
      "\n",
      "Coherence Score:  0.3270852681799898 \n",
      "\n"
     ]
    }
   ],
   "source": [
    "from gensim.models import CoherenceModel\n",
    "# Compute Coherence Score\n",
    "coherence_model_lda = CoherenceModel(model=lda_model_tfidf, texts=processed_docs, dictionary=dictionary, coherence='c_v')\n",
    "coherence_lda = coherence_model_lda.get_coherence()\n",
    "print('\\nCoherence Score: ', coherence_lda,'\\n')"
   ]
  },
  {
   "cell_type": "code",
   "execution_count": 168,
   "metadata": {},
   "outputs": [],
   "source": [
    "# supporting function\n",
    "def compute_coherence_values(corpus, dictionary, k, a, b):\n",
    "    \n",
    "    lda_model = gensim.models.LdaMulticore(corpus=corpus,\n",
    "                                           id2word=dictionary,\n",
    "                                           num_topics=k, \n",
    "                                           random_state=100,\n",
    "                                           passes=10,\n",
    "                                           alpha=a,\n",
    "                                           eta=b,\n",
    "                                           workers=8)\n",
    "    \n",
    "    coherence_model_lda = CoherenceModel(model=lda_model, texts=processed_docs, dictionary=dictionary, coherence='c_v')\n",
    "    \n",
    "    return coherence_model_lda.get_coherence()"
   ]
  },
  {
   "cell_type": "code",
   "execution_count": 164,
   "metadata": {},
   "outputs": [],
   "source": [
    "import tqdm\n",
    "\n",
    "# Topics range\n",
    "min_topics = 2\n",
    "max_topics = 11\n",
    "step_size = 1\n",
    "topics_range = range(min_topics, max_topics, step_size)\n",
    "# Alpha parameter\n",
    "alpha = list(np.arange(0.01, 1, 0.3))\n",
    "alpha.append('symmetric')\n",
    "alpha.append('asymmetric')\n",
    "# Beta parameter\n",
    "beta = list(np.arange(0.01, 1, 0.3))\n",
    "beta.append('symmetric')\n",
    "\n",
    "model_results = {'Topics': [],\n",
    "                 'Alpha': [],\n",
    "                 'Beta': [],\n",
    "                 'Coherence': []\n",
    "                }"
   ]
  },
  {
   "cell_type": "code",
   "execution_count": null,
   "metadata": {},
   "outputs": [],
   "source": [
    "# Can take a long time to run\n",
    "if 1 == 1:\n",
    "    pbar = tqdm.tqdm(total=len(alpha)*len(beta)*len(topics_range))\n",
    "    \n",
    "    # iterate through number of topics\n",
    "    for k in topics_range:\n",
    "        # iterate through alpha values\n",
    "        for a in alpha:\n",
    "            # iterare through beta values\n",
    "            for b in beta:\n",
    "                # get the coherence score for the given parameters\n",
    "                cv = compute_coherence_values(corpus=corpus_tfidf, dictionary=dictionary, k=k, a=a, b=b)\n",
    "\n",
    "                model_results['Topics'].append(k)\n",
    "                model_results['Alpha'].append(a)\n",
    "                model_results['Beta'].append(b)\n",
    "                model_results['Coherence'].append(cv)\n",
    "\n",
    "                pbar.update(1)\n",
    "    pd.DataFrame(model_results).to_csv('lda_tuning_results.csv', index=False)\n",
    "    pbar.close()"
   ]
  },
  {
   "cell_type": "code",
   "execution_count": 170,
   "metadata": {},
   "outputs": [
    {
     "data": {
      "text/html": [
       "<div>\n",
       "<style scoped>\n",
       "    .dataframe tbody tr th:only-of-type {\n",
       "        vertical-align: middle;\n",
       "    }\n",
       "\n",
       "    .dataframe tbody tr th {\n",
       "        vertical-align: top;\n",
       "    }\n",
       "\n",
       "    .dataframe thead th {\n",
       "        text-align: right;\n",
       "    }\n",
       "</style>\n",
       "<table border=\"1\" class=\"dataframe\">\n",
       "  <thead>\n",
       "    <tr style=\"text-align: right;\">\n",
       "      <th></th>\n",
       "      <th>Topics</th>\n",
       "      <th>Alpha</th>\n",
       "      <th>Beta</th>\n",
       "      <th>Coherence</th>\n",
       "    </tr>\n",
       "  </thead>\n",
       "  <tbody>\n",
       "    <tr>\n",
       "      <th>4</th>\n",
       "      <td>2</td>\n",
       "      <td>0.01</td>\n",
       "      <td>symmetric</td>\n",
       "      <td>0.396156</td>\n",
       "    </tr>\n",
       "    <tr>\n",
       "      <th>119</th>\n",
       "      <td>5</td>\n",
       "      <td>asymmetric</td>\n",
       "      <td>symmetric</td>\n",
       "      <td>0.367001</td>\n",
       "    </tr>\n",
       "    <tr>\n",
       "      <th>57</th>\n",
       "      <td>3</td>\n",
       "      <td>asymmetric</td>\n",
       "      <td>0.61</td>\n",
       "      <td>0.358828</td>\n",
       "    </tr>\n",
       "    <tr>\n",
       "      <th>15</th>\n",
       "      <td>2</td>\n",
       "      <td>0.91</td>\n",
       "      <td>0.01</td>\n",
       "      <td>0.351116</td>\n",
       "    </tr>\n",
       "    <tr>\n",
       "      <th>28</th>\n",
       "      <td>2</td>\n",
       "      <td>asymmetric</td>\n",
       "      <td>0.91</td>\n",
       "      <td>0.350895</td>\n",
       "    </tr>\n",
       "    <tr>\n",
       "      <th>...</th>\n",
       "      <td>...</td>\n",
       "      <td>...</td>\n",
       "      <td>...</td>\n",
       "      <td>...</td>\n",
       "    </tr>\n",
       "    <tr>\n",
       "      <th>78</th>\n",
       "      <td>4</td>\n",
       "      <td>0.91</td>\n",
       "      <td>0.91</td>\n",
       "      <td>0.184882</td>\n",
       "    </tr>\n",
       "    <tr>\n",
       "      <th>74</th>\n",
       "      <td>4</td>\n",
       "      <td>0.61</td>\n",
       "      <td>symmetric</td>\n",
       "      <td>0.183397</td>\n",
       "    </tr>\n",
       "    <tr>\n",
       "      <th>71</th>\n",
       "      <td>4</td>\n",
       "      <td>0.61</td>\n",
       "      <td>0.31</td>\n",
       "      <td>0.170670</td>\n",
       "    </tr>\n",
       "    <tr>\n",
       "      <th>72</th>\n",
       "      <td>4</td>\n",
       "      <td>0.61</td>\n",
       "      <td>0.61</td>\n",
       "      <td>0.168105</td>\n",
       "    </tr>\n",
       "    <tr>\n",
       "      <th>73</th>\n",
       "      <td>4</td>\n",
       "      <td>0.61</td>\n",
       "      <td>0.91</td>\n",
       "      <td>0.165598</td>\n",
       "    </tr>\n",
       "  </tbody>\n",
       "</table>\n",
       "<p>146 rows × 4 columns</p>\n",
       "</div>"
      ],
      "text/plain": [
       "     Topics       Alpha       Beta  Coherence\n",
       "4         2        0.01  symmetric   0.396156\n",
       "119       5  asymmetric  symmetric   0.367001\n",
       "57        3  asymmetric       0.61   0.358828\n",
       "15        2        0.91       0.01   0.351116\n",
       "28        2  asymmetric       0.91   0.350895\n",
       "..      ...         ...        ...        ...\n",
       "78        4        0.91       0.91   0.184882\n",
       "74        4        0.61  symmetric   0.183397\n",
       "71        4        0.61       0.31   0.170670\n",
       "72        4        0.61       0.61   0.168105\n",
       "73        4        0.61       0.91   0.165598\n",
       "\n",
       "[146 rows x 4 columns]"
      ]
     },
     "execution_count": 170,
     "metadata": {},
     "output_type": "execute_result"
    }
   ],
   "source": [
    "pd.DataFrame(model_results).sort_values(by='Coherence',ascending=False)"
   ]
  },
  {
   "cell_type": "code",
   "execution_count": 171,
   "metadata": {},
   "outputs": [],
   "source": [
    "pd.DataFrame(model_results).to_csv('lda_tuning_results.csv', index=False)"
   ]
  },
  {
   "cell_type": "markdown",
   "metadata": {},
   "source": [
    "## <span style=\"color:blue\">Example: Airlines Tweets</span>"
   ]
  },
  {
   "cell_type": "markdown",
   "metadata": {},
   "source": [
    "This dataset can be found in [Kaggle](https://www.kaggle.com/c/spanish-arilines-tweets-sentiment-analysis/data?select=tweets_public.csv)."
   ]
  },
  {
   "cell_type": "code",
   "execution_count": null,
   "metadata": {},
   "outputs": [],
   "source": [
    "from nltk.stem import PorterStemmer \n",
    "import spacy\n",
    "nlp = spacy.load('es_core_news_lg')"
   ]
  },
  {
   "cell_type": "code",
   "execution_count": null,
   "metadata": {},
   "outputs": [],
   "source": [
    "hey = nlp('Hola como estas')"
   ]
  },
  {
   "cell_type": "code",
   "execution_count": null,
   "metadata": {},
   "outputs": [],
   "source": [
    "def lemmatize(text,nlp):\n",
    "    # can be parallelized\n",
    "    doc = nlp(text)\n",
    "    lemma = [n.lemma_ for n in doc]\n",
    "        \n",
    "    return lemma\n",
    "\n",
    "def preprocess(text,nlp):\n",
    "    \n",
    "    result = []\n",
    "    \n",
    "    for token in gensim.utils.simple_preprocess(text): #  gensim.utils.simple_preprocess tokenizes el texto\n",
    "        token = ''.join(x for x in token.lower() if x.isalpha())\n",
    "        token = re.sub(r'http*','',token)\n",
    "        #token = re.sub(r'\\s\\s+',' ',token)\n",
    "        if token not in palabrasVacias_nltk and len(token) > 2:\n",
    "            result.append(token)\n",
    "        result = lemmatize(' '.join(result),nlp)\n",
    "    return result"
   ]
  },
  {
   "cell_type": "code",
   "execution_count": null,
   "metadata": {},
   "outputs": [],
   "source": [
    "'''\n",
    "## Parallel\n",
    "\n",
    "# batch_size=200 is approx 8.3 gb of RAM\n",
    "for essay in nlp.pipe(documents_spanish['text'], batch_size=200, n_process=4):\n",
    "    # is_parsed is deprecated\n",
    "    if essay.has_annotation(\"DEP\"):\n",
    "        lemma.append([n.lemma_ for n in essay])\n",
    "\n",
    "\n",
    "    else:\n",
    "        # We want to make sure that the lists of parsed results have the\n",
    "        # same number of entries of the original Dataframe, so add some blanks in case the parse fails\n",
    "        lemma.append(None)\n",
    "\n",
    "\n",
    "documents_spanish['Lemas']  = lemma\n",
    "'''"
   ]
  },
  {
   "cell_type": "code",
   "execution_count": null,
   "metadata": {},
   "outputs": [],
   "source": [
    "data_spanish = pd.read_csv('../Datos/tweets_public.csv')"
   ]
  },
  {
   "cell_type": "code",
   "execution_count": null,
   "metadata": {},
   "outputs": [],
   "source": [
    "data_spanish"
   ]
  },
  {
   "cell_type": "code",
   "execution_count": null,
   "metadata": {},
   "outputs": [],
   "source": [
    "data_text_spanish = data_spanish[['text']]\n",
    "documents_spanish = data_text_spanish\n",
    "documents_spanish.sample(5)"
   ]
  },
  {
   "cell_type": "code",
   "execution_count": null,
   "metadata": {},
   "outputs": [],
   "source": [
    "documents_spanish[documents_spanish['text'].str.contains('iberia')]"
   ]
  },
  {
   "cell_type": "code",
   "execution_count": null,
   "metadata": {},
   "outputs": [],
   "source": [
    "doc_sample"
   ]
  },
  {
   "cell_type": "code",
   "execution_count": null,
   "metadata": {},
   "outputs": [],
   "source": [
    "sample = np.random.choice(documents_spanish.index)\n",
    "doc_sample = documents_spanish.iloc[sample].values[0]\n",
    "print(f'Original Document: {sample}')\n",
    "words = []\n",
    "for word in doc_sample.split(' '):\n",
    "    words.append(word)\n",
    "print(words)\n",
    "print('Lemmatized text')\n",
    "print(lemmatize(doc_sample,nlp))\n",
    "print('Clean text')\n",
    "print(preprocess(doc_sample,nlp))"
   ]
  },
  {
   "cell_type": "markdown",
   "metadata": {},
   "source": [
    "### Text Preprocessing"
   ]
  },
  {
   "cell_type": "markdown",
   "metadata": {},
   "source": [
    "We are going to pre-process the texts, saving the results in the *processed_docs* object."
   ]
  },
  {
   "cell_type": "code",
   "execution_count": null,
   "metadata": {},
   "outputs": [],
   "source": [
    "processed_docs_spanish = documents_spanish['text'].apply(lambda x: preprocess(x, nlp))"
   ]
  },
  {
   "cell_type": "code",
   "execution_count": null,
   "metadata": {},
   "outputs": [],
   "source": [
    "processed_docs_spanish.head(10).values"
   ]
  },
  {
   "cell_type": "markdown",
   "metadata": {},
   "source": [
    "### Building the dictionary"
   ]
  },
  {
   "cell_type": "markdown",
   "metadata": {},
   "source": [
    "We create a dictionary from *processed_docs* that contains the number of times a word appears in the training set."
   ]
  },
  {
   "cell_type": "code",
   "execution_count": null,
   "metadata": {},
   "outputs": [],
   "source": [
    "dictionary_spanish = gensim.corpora.Dictionary(processed_docs_spanish)\n",
    "count = 0\n",
    "for k, v in dictionary_spanish.iteritems():\n",
    "    print(k, v)\n",
    "    count += 1\n",
    "    if count > 10:\n",
    "        break"
   ]
  },
  {
   "cell_type": "code",
   "execution_count": null,
   "metadata": {},
   "outputs": [],
   "source": [
    "dictionary_spanish.most_common()[:10]"
   ]
  },
  {
   "cell_type": "code",
   "execution_count": null,
   "metadata": {},
   "outputs": [],
   "source": [
    "dictionary_spanish.most_common()[-10:]"
   ]
  },
  {
   "cell_type": "markdown",
   "metadata": {},
   "source": [
    "Filter the tokens that appear in\n",
    "less than 15 documents (absolute number) or\n",
    "more than 0.5 documents (fraction of the total size of the corpus, not an absolute number).\n",
    "After the previous two steps, keep only the first 100,000 most frequent tokens."
   ]
  },
  {
   "cell_type": "code",
   "execution_count": null,
   "metadata": {},
   "outputs": [],
   "source": [
    "dictionary_spanish.filter_extremes(no_below=15, no_above=0.5, keep_n=100000)"
   ]
  },
  {
   "cell_type": "code",
   "execution_count": null,
   "metadata": {},
   "outputs": [],
   "source": [
    "dictionary_spanish.most_common()[:10]"
   ]
  },
  {
   "cell_type": "code",
   "execution_count": null,
   "metadata": {},
   "outputs": [],
   "source": [
    "dictionary_spanish.most_common()[-10:]"
   ]
  },
  {
   "cell_type": "markdown",
   "metadata": {},
   "source": [
    "### Gensim doc2bow"
   ]
  },
  {
   "cell_type": "markdown",
   "metadata": {},
   "source": [
    "For each document we create a dictionary that informs how many\n",
    "words and how many times those words appear.\n",
    "\n",
    "We put this in the *bow_corpus* object, then check our previously selected document."
   ]
  },
  {
   "cell_type": "code",
   "execution_count": null,
   "metadata": {},
   "outputs": [],
   "source": [
    "bow_corpus = [dictionary_spanish.doc2bow(doc) for doc in processed_docs_spanish]"
   ]
  },
  {
   "cell_type": "code",
   "execution_count": null,
   "metadata": {},
   "outputs": [],
   "source": [
    "sample = np.random.choice(documents_spanish.index)\n",
    "\n",
    "doc_sample = documents_spanish.iloc[sample].values[0]\n",
    "print(f'\\nOriginal Document: {sample}')\n",
    "print(doc_sample,'\\n')\n",
    "\n",
    "print('Bag of Words (BoW):\\n')\n",
    "print(bow_corpus[sample],'\\n')\n",
    "\n",
    "bow_doc_4310 = bow_corpus[sample]\n",
    "for i in range(len(bow_doc_4310)):\n",
    "    print(\"Word {} (\\\"{}\\\") appears {} time.\".format(bow_doc_4310[i][0], \n",
    "                                               dictionary_spanish[bow_doc_4310[i][0]], \n",
    "bow_doc_4310[i][1]))"
   ]
  },
  {
   "cell_type": "markdown",
   "metadata": {},
   "source": [
    "This is a preview of the bag of words in the preprocessed document."
   ]
  },
  {
   "cell_type": "markdown",
   "metadata": {},
   "source": [
    "### TF-IDF"
   ]
  },
  {
   "cell_type": "markdown",
   "metadata": {},
   "source": [
    "We create a model object *tf-idf* using *models.TfidfModel* from \"bow_corpus\" and put it in *tfidf*, then we apply the transformation to the whole corpus and call it *corpus_tfidf*. Finally, we preview the *TF-IDF* scores for our first document."
   ]
  },
  {
   "cell_type": "code",
   "execution_count": null,
   "metadata": {},
   "outputs": [],
   "source": [
    "from gensim import corpora, models\n",
    "tfidf = models.TfidfModel(bow_corpus)\n",
    "corpus_tfidf = tfidf[bow_corpus]\n",
    "\n",
    "print(processed_docs_spanish[0],'\\n')\n",
    "print(bow_corpus[0],'\\n')\n",
    "from pprint import pprint\n",
    "for doc in corpus_tfidf:\n",
    "    pprint(doc)\n",
    "    break"
   ]
  },
  {
   "cell_type": "markdown",
   "metadata": {},
   "source": [
    "### Running LDA using TF-IDF"
   ]
  },
  {
   "cell_type": "code",
   "execution_count": null,
   "metadata": {},
   "outputs": [],
   "source": [
    "lda_model_tfidf = gensim.models.LdaMulticore(corpus_tfidf, num_topics=10, id2word=dictionary_spanish, passes=4, workers=8)"
   ]
  },
  {
   "cell_type": "markdown",
   "metadata": {},
   "source": [
    "**How many topics should we choose?** You can read [Evaluate Topic Models: Latent Dirichlet Allocation (LDA)](https://towardsdatascience.com/evaluate-topic-model-in-python-latent-dirichlet-allocation-lda-7d57484bb5d0)."
   ]
  },
  {
   "cell_type": "code",
   "execution_count": null,
   "metadata": {},
   "outputs": [],
   "source": [
    "for idx, topic in lda_model_tfidf.print_topics(-1):\n",
    "    print('Topic: {} Word: {}'.format(idx, topic[:120]))"
   ]
  },
  {
   "cell_type": "markdown",
   "metadata": {},
   "source": [
    "Can you distinguish different topics using the words in each topic and their corresponding weights?"
   ]
  },
  {
   "cell_type": "markdown",
   "metadata": {},
   "source": [
    "### Performance evaluation classifying the sample document using the LDA TF-IDF model."
   ]
  },
  {
   "cell_type": "code",
   "execution_count": null,
   "metadata": {},
   "outputs": [],
   "source": [
    "sample = np.random.choice(documents_spanish.index)\n",
    "\n",
    "doc_sample = documents_spanish.iloc[sample].values[0]\n",
    "\n",
    "print(f'\\nOriginal Document: {sample}')\n",
    "print(doc_sample,'\\n')\n",
    "\n",
    "bow_vector = dictionary.doc2bow(preprocess(doc_sample,nlp))\n",
    "tfidf_vector = tfidf[bow_vector]\n",
    "\n",
    "for index, score in sorted(lda_model_tfidf[tfidf_vector], key=lambda tup: -1*tup[1]):\n",
    "    print(\"Score: {}\\t Topic: {}\".format(score, lda_model_tfidf.print_topic(index, 5)))"
   ]
  },
  {
   "cell_type": "markdown",
   "metadata": {},
   "source": [
    "Nuestro documento de prueba tiene la mayor probabilidad de ser parte del tema que asignó nuestro modelo, que es la clasificación precisa."
   ]
  },
  {
   "cell_type": "markdown",
   "metadata": {},
   "source": [
    "## Test the model with a document not seen before."
   ]
  },
  {
   "cell_type": "code",
   "execution_count": null,
   "metadata": {},
   "outputs": [],
   "source": [
    "unseen_document = 'Terrible el servicio brindado. No volaré nunca más con ustedes.'\n",
    "\n",
    "print(f'\\nOriginal Document:')\n",
    "print(unseen_document,'\\n')\n",
    "\n",
    "bow_vector = dictionary.doc2bow(preprocess(doc_sample,nlp))\n",
    "tfidf_vector = tfidf[bow_vector]\n",
    "for index, score in sorted(lda_model_tfidf[tfidf_vector], key=lambda tup: -1*tup[1]):\n",
    "    print(\"Score: {}\\t Topic: {}\".format(score, lda_model_tfidf.print_topic(index, 5)))"
   ]
  },
  {
   "cell_type": "markdown",
   "metadata": {},
   "source": [
    "[[Go Back]](#Content)"
   ]
  },
  {
   "cell_type": "markdown",
   "metadata": {},
   "source": [
    "## Selecting Number of Topics"
   ]
  },
  {
   "cell_type": "code",
   "execution_count": null,
   "metadata": {},
   "outputs": [],
   "source": [
    "from gensim.models import CoherenceModel\n",
    "# Compute Coherence Score\n",
    "coherence_model_lda = CoherenceModel(model=lda_model_tfidf, texts=corpus_tfidf, dictionary=dictionary_spanish, coherence='c_v')\n",
    "coherence_lda = coherence_model_lda.get_coherence()\n",
    "print('\\nCoherence Score: ', coherence_lda)"
   ]
  },
  {
   "cell_type": "code",
   "execution_count": null,
   "metadata": {},
   "outputs": [],
   "source": [
    "# supporting function\n",
    "def compute_coherence_values(corpus, dictionary, k, a, b):\n",
    "    \n",
    "    lda_model = gensim.models.LdaMulticore(corpus=corpus_tfidf,\n",
    "                                           id2word=dictionary_spanish,\n",
    "                                           num_topics=k, \n",
    "                                           random_state=100,\n",
    "                                           chunksize=100,\n",
    "                                           passes=10,\n",
    "                                           alpha=a,\n",
    "                                           eta=b)\n",
    "    \n",
    "    coherence_model_lda = CoherenceModel(model=lda_model_tfidf, texts=corpus_tfidf, dictionary=dictionary_spanish, coherence='c_v')\n",
    "    \n",
    "    return coherence_model_lda.get_coherence()"
   ]
  }
 ],
 "metadata": {
  "kernelspec": {
   "display_name": "Python 3 (ipykernel)",
   "language": "python",
   "name": "python3"
  },
  "language_info": {
   "codemirror_mode": {
    "name": "ipython",
    "version": 3
   },
   "file_extension": ".py",
   "mimetype": "text/x-python",
   "name": "python",
   "nbconvert_exporter": "python",
   "pygments_lexer": "ipython3",
   "version": "3.8.2"
  },
  "toc-autonumbering": false
 },
 "nbformat": 4,
 "nbformat_minor": 4
}
